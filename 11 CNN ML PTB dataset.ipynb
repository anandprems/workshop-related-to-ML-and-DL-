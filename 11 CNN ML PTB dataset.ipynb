{
 "cells": [
  {
   "cell_type": "code",
   "execution_count": 5,
   "metadata": {
    "id": "RtHc6pyKv9Uu"
   },
   "outputs": [],
   "source": [
    "#importing libraries\n",
    "import numpy as np\n",
    "import pandas as pd\n",
    "import matplotlib.pyplot as plt"
   ]
  },
  {
   "cell_type": "code",
   "execution_count": 6,
   "metadata": {
    "id": "szRYFwrnv9Ux"
   },
   "outputs": [],
   "source": [
    "#importing datasets\n",
    "normal = pd.read_csv('ptbdb_normal.csv')\n",
    "abnormal = pd.read_csv('ptbdb_abnormal.csv')"
   ]
  },
  {
   "cell_type": "code",
   "execution_count": 7,
   "metadata": {
    "colab": {
     "base_uri": "https://localhost:8080/",
     "height": 317
    },
    "id": "ZTxNB11-v9Uy",
    "outputId": "2f0e5482-a446-498f-a1e4-c15f53886bda",
    "scrolled": true
   },
   "outputs": [
    {
     "data": {
      "text/html": [
       "<div>\n",
       "<style scoped>\n",
       "    .dataframe tbody tr th:only-of-type {\n",
       "        vertical-align: middle;\n",
       "    }\n",
       "\n",
       "    .dataframe tbody tr th {\n",
       "        vertical-align: top;\n",
       "    }\n",
       "\n",
       "    .dataframe thead th {\n",
       "        text-align: right;\n",
       "    }\n",
       "</style>\n",
       "<table border=\"1\" class=\"dataframe\">\n",
       "  <thead>\n",
       "    <tr style=\"text-align: right;\">\n",
       "      <th></th>\n",
       "      <th>1.000000000000000000e+00</th>\n",
       "      <th>9.003241658210754395e-01</th>\n",
       "      <th>3.585899472236633301e-01</th>\n",
       "      <th>5.145867168903350830e-02</th>\n",
       "      <th>4.659643396735191345e-02</th>\n",
       "      <th>1.268233358860015869e-01</th>\n",
       "      <th>1.333063244819641113e-01</th>\n",
       "      <th>1.191247999668121338e-01</th>\n",
       "      <th>1.106158867478370667e-01</th>\n",
       "      <th>1.130470037460327148e-01</th>\n",
       "      <th>...</th>\n",
       "      <th>0.000000000000000000e+00.56</th>\n",
       "      <th>0.000000000000000000e+00.57</th>\n",
       "      <th>0.000000000000000000e+00.58</th>\n",
       "      <th>0.000000000000000000e+00.59</th>\n",
       "      <th>0.000000000000000000e+00.60</th>\n",
       "      <th>0.000000000000000000e+00.61</th>\n",
       "      <th>0.000000000000000000e+00.62</th>\n",
       "      <th>0.000000000000000000e+00.63</th>\n",
       "      <th>0.000000000000000000e+00.64</th>\n",
       "      <th>0.000000000000000000e+00.65</th>\n",
       "    </tr>\n",
       "  </thead>\n",
       "  <tbody>\n",
       "    <tr>\n",
       "      <th>0</th>\n",
       "      <td>1.000000</td>\n",
       "      <td>0.794681</td>\n",
       "      <td>0.375387</td>\n",
       "      <td>0.116883</td>\n",
       "      <td>0.000000</td>\n",
       "      <td>0.171923</td>\n",
       "      <td>0.283859</td>\n",
       "      <td>0.293754</td>\n",
       "      <td>0.325912</td>\n",
       "      <td>0.345083</td>\n",
       "      <td>...</td>\n",
       "      <td>0.0</td>\n",
       "      <td>0.0</td>\n",
       "      <td>0.0</td>\n",
       "      <td>0.0</td>\n",
       "      <td>0.0</td>\n",
       "      <td>0.0</td>\n",
       "      <td>0.0</td>\n",
       "      <td>0.0</td>\n",
       "      <td>0.0</td>\n",
       "      <td>0.0</td>\n",
       "    </tr>\n",
       "    <tr>\n",
       "      <th>1</th>\n",
       "      <td>0.909029</td>\n",
       "      <td>0.791482</td>\n",
       "      <td>0.423169</td>\n",
       "      <td>0.186712</td>\n",
       "      <td>0.000000</td>\n",
       "      <td>0.007836</td>\n",
       "      <td>0.063032</td>\n",
       "      <td>0.077002</td>\n",
       "      <td>0.074957</td>\n",
       "      <td>0.077342</td>\n",
       "      <td>...</td>\n",
       "      <td>0.0</td>\n",
       "      <td>0.0</td>\n",
       "      <td>0.0</td>\n",
       "      <td>0.0</td>\n",
       "      <td>0.0</td>\n",
       "      <td>0.0</td>\n",
       "      <td>0.0</td>\n",
       "      <td>0.0</td>\n",
       "      <td>0.0</td>\n",
       "      <td>0.0</td>\n",
       "    </tr>\n",
       "    <tr>\n",
       "      <th>2</th>\n",
       "      <td>1.000000</td>\n",
       "      <td>0.478893</td>\n",
       "      <td>0.056760</td>\n",
       "      <td>0.064176</td>\n",
       "      <td>0.081289</td>\n",
       "      <td>0.072732</td>\n",
       "      <td>0.055619</td>\n",
       "      <td>0.048774</td>\n",
       "      <td>0.054478</td>\n",
       "      <td>0.041643</td>\n",
       "      <td>...</td>\n",
       "      <td>0.0</td>\n",
       "      <td>0.0</td>\n",
       "      <td>0.0</td>\n",
       "      <td>0.0</td>\n",
       "      <td>0.0</td>\n",
       "      <td>0.0</td>\n",
       "      <td>0.0</td>\n",
       "      <td>0.0</td>\n",
       "      <td>0.0</td>\n",
       "      <td>0.0</td>\n",
       "    </tr>\n",
       "    <tr>\n",
       "      <th>3</th>\n",
       "      <td>1.000000</td>\n",
       "      <td>0.867238</td>\n",
       "      <td>0.201360</td>\n",
       "      <td>0.099349</td>\n",
       "      <td>0.141336</td>\n",
       "      <td>0.120934</td>\n",
       "      <td>0.108516</td>\n",
       "      <td>0.096393</td>\n",
       "      <td>0.093436</td>\n",
       "      <td>0.100828</td>\n",
       "      <td>...</td>\n",
       "      <td>0.0</td>\n",
       "      <td>0.0</td>\n",
       "      <td>0.0</td>\n",
       "      <td>0.0</td>\n",
       "      <td>0.0</td>\n",
       "      <td>0.0</td>\n",
       "      <td>0.0</td>\n",
       "      <td>0.0</td>\n",
       "      <td>0.0</td>\n",
       "      <td>0.0</td>\n",
       "    </tr>\n",
       "    <tr>\n",
       "      <th>4</th>\n",
       "      <td>0.948983</td>\n",
       "      <td>0.505265</td>\n",
       "      <td>0.004176</td>\n",
       "      <td>0.022513</td>\n",
       "      <td>0.059550</td>\n",
       "      <td>0.107298</td>\n",
       "      <td>0.110385</td>\n",
       "      <td>0.111293</td>\n",
       "      <td>0.116558</td>\n",
       "      <td>0.118192</td>\n",
       "      <td>...</td>\n",
       "      <td>0.0</td>\n",
       "      <td>0.0</td>\n",
       "      <td>0.0</td>\n",
       "      <td>0.0</td>\n",
       "      <td>0.0</td>\n",
       "      <td>0.0</td>\n",
       "      <td>0.0</td>\n",
       "      <td>0.0</td>\n",
       "      <td>0.0</td>\n",
       "      <td>0.0</td>\n",
       "    </tr>\n",
       "  </tbody>\n",
       "</table>\n",
       "<p>5 rows × 188 columns</p>\n",
       "</div>"
      ],
      "text/plain": [
       "   1.000000000000000000e+00  9.003241658210754395e-01  \\\n",
       "0                  1.000000                  0.794681   \n",
       "1                  0.909029                  0.791482   \n",
       "2                  1.000000                  0.478893   \n",
       "3                  1.000000                  0.867238   \n",
       "4                  0.948983                  0.505265   \n",
       "\n",
       "   3.585899472236633301e-01  5.145867168903350830e-02  \\\n",
       "0                  0.375387                  0.116883   \n",
       "1                  0.423169                  0.186712   \n",
       "2                  0.056760                  0.064176   \n",
       "3                  0.201360                  0.099349   \n",
       "4                  0.004176                  0.022513   \n",
       "\n",
       "   4.659643396735191345e-02  1.268233358860015869e-01  \\\n",
       "0                  0.000000                  0.171923   \n",
       "1                  0.000000                  0.007836   \n",
       "2                  0.081289                  0.072732   \n",
       "3                  0.141336                  0.120934   \n",
       "4                  0.059550                  0.107298   \n",
       "\n",
       "   1.333063244819641113e-01  1.191247999668121338e-01  \\\n",
       "0                  0.283859                  0.293754   \n",
       "1                  0.063032                  0.077002   \n",
       "2                  0.055619                  0.048774   \n",
       "3                  0.108516                  0.096393   \n",
       "4                  0.110385                  0.111293   \n",
       "\n",
       "   1.106158867478370667e-01  1.130470037460327148e-01  ...  \\\n",
       "0                  0.325912                  0.345083  ...   \n",
       "1                  0.074957                  0.077342  ...   \n",
       "2                  0.054478                  0.041643  ...   \n",
       "3                  0.093436                  0.100828  ...   \n",
       "4                  0.116558                  0.118192  ...   \n",
       "\n",
       "   0.000000000000000000e+00.56  0.000000000000000000e+00.57  \\\n",
       "0                          0.0                          0.0   \n",
       "1                          0.0                          0.0   \n",
       "2                          0.0                          0.0   \n",
       "3                          0.0                          0.0   \n",
       "4                          0.0                          0.0   \n",
       "\n",
       "   0.000000000000000000e+00.58  0.000000000000000000e+00.59  \\\n",
       "0                          0.0                          0.0   \n",
       "1                          0.0                          0.0   \n",
       "2                          0.0                          0.0   \n",
       "3                          0.0                          0.0   \n",
       "4                          0.0                          0.0   \n",
       "\n",
       "   0.000000000000000000e+00.60  0.000000000000000000e+00.61  \\\n",
       "0                          0.0                          0.0   \n",
       "1                          0.0                          0.0   \n",
       "2                          0.0                          0.0   \n",
       "3                          0.0                          0.0   \n",
       "4                          0.0                          0.0   \n",
       "\n",
       "   0.000000000000000000e+00.62  0.000000000000000000e+00.63  \\\n",
       "0                          0.0                          0.0   \n",
       "1                          0.0                          0.0   \n",
       "2                          0.0                          0.0   \n",
       "3                          0.0                          0.0   \n",
       "4                          0.0                          0.0   \n",
       "\n",
       "   0.000000000000000000e+00.64  0.000000000000000000e+00.65  \n",
       "0                          0.0                          0.0  \n",
       "1                          0.0                          0.0  \n",
       "2                          0.0                          0.0  \n",
       "3                          0.0                          0.0  \n",
       "4                          0.0                          0.0  \n",
       "\n",
       "[5 rows x 188 columns]"
      ]
     },
     "execution_count": 7,
     "metadata": {},
     "output_type": "execute_result"
    }
   ],
   "source": [
    "#viewing normal dataset\n",
    "normal.head()"
   ]
  },
  {
   "cell_type": "code",
   "execution_count": 8,
   "metadata": {
    "colab": {
     "base_uri": "https://localhost:8080/",
     "height": 317
    },
    "id": "l2sfUt2qv9Uy",
    "outputId": "794db13d-c0e2-4ace-dc73-83d4120ba5df"
   },
   "outputs": [
    {
     "data": {
      "text/html": [
       "<div>\n",
       "<style scoped>\n",
       "    .dataframe tbody tr th:only-of-type {\n",
       "        vertical-align: middle;\n",
       "    }\n",
       "\n",
       "    .dataframe tbody tr th {\n",
       "        vertical-align: top;\n",
       "    }\n",
       "\n",
       "    .dataframe thead th {\n",
       "        text-align: right;\n",
       "    }\n",
       "</style>\n",
       "<table border=\"1\" class=\"dataframe\">\n",
       "  <thead>\n",
       "    <tr style=\"text-align: right;\">\n",
       "      <th></th>\n",
       "      <th>9.322328567504882812e-01</th>\n",
       "      <th>8.696785569190979004e-01</th>\n",
       "      <th>8.861859440803527832e-01</th>\n",
       "      <th>9.296264052391052246e-01</th>\n",
       "      <th>9.087749719619750977e-01</th>\n",
       "      <th>9.339704513549804688e-01</th>\n",
       "      <th>8.010425567626953125e-01</th>\n",
       "      <th>7.497828006744384766e-01</th>\n",
       "      <th>6.872285008430480957e-01</th>\n",
       "      <th>6.350998878479003906e-01</th>\n",
       "      <th>...</th>\n",
       "      <th>0.000000000000000000e+00.117</th>\n",
       "      <th>0.000000000000000000e+00.118</th>\n",
       "      <th>0.000000000000000000e+00.119</th>\n",
       "      <th>0.000000000000000000e+00.120</th>\n",
       "      <th>0.000000000000000000e+00.121</th>\n",
       "      <th>0.000000000000000000e+00.122</th>\n",
       "      <th>0.000000000000000000e+00.123</th>\n",
       "      <th>0.000000000000000000e+00.124</th>\n",
       "      <th>0.000000000000000000e+00.125</th>\n",
       "      <th>1.000000000000000000e+00.1</th>\n",
       "    </tr>\n",
       "  </thead>\n",
       "  <tbody>\n",
       "    <tr>\n",
       "      <th>0</th>\n",
       "      <td>1.000000</td>\n",
       "      <td>0.606941</td>\n",
       "      <td>0.384181</td>\n",
       "      <td>0.254237</td>\n",
       "      <td>0.223567</td>\n",
       "      <td>0.276836</td>\n",
       "      <td>0.253430</td>\n",
       "      <td>0.184826</td>\n",
       "      <td>0.153349</td>\n",
       "      <td>0.121872</td>\n",
       "      <td>...</td>\n",
       "      <td>0.0</td>\n",
       "      <td>0.0</td>\n",
       "      <td>0.0</td>\n",
       "      <td>0.0</td>\n",
       "      <td>0.0</td>\n",
       "      <td>0.0</td>\n",
       "      <td>0.0</td>\n",
       "      <td>0.0</td>\n",
       "      <td>0.0</td>\n",
       "      <td>1.0</td>\n",
       "    </tr>\n",
       "    <tr>\n",
       "      <th>1</th>\n",
       "      <td>1.000000</td>\n",
       "      <td>0.951613</td>\n",
       "      <td>0.923963</td>\n",
       "      <td>0.853303</td>\n",
       "      <td>0.791859</td>\n",
       "      <td>0.734255</td>\n",
       "      <td>0.672043</td>\n",
       "      <td>0.685100</td>\n",
       "      <td>0.670507</td>\n",
       "      <td>0.667435</td>\n",
       "      <td>...</td>\n",
       "      <td>0.0</td>\n",
       "      <td>0.0</td>\n",
       "      <td>0.0</td>\n",
       "      <td>0.0</td>\n",
       "      <td>0.0</td>\n",
       "      <td>0.0</td>\n",
       "      <td>0.0</td>\n",
       "      <td>0.0</td>\n",
       "      <td>0.0</td>\n",
       "      <td>1.0</td>\n",
       "    </tr>\n",
       "    <tr>\n",
       "      <th>2</th>\n",
       "      <td>0.977819</td>\n",
       "      <td>0.899261</td>\n",
       "      <td>0.230129</td>\n",
       "      <td>0.032348</td>\n",
       "      <td>0.142329</td>\n",
       "      <td>0.223660</td>\n",
       "      <td>0.328096</td>\n",
       "      <td>0.367837</td>\n",
       "      <td>0.381701</td>\n",
       "      <td>0.389094</td>\n",
       "      <td>...</td>\n",
       "      <td>0.0</td>\n",
       "      <td>0.0</td>\n",
       "      <td>0.0</td>\n",
       "      <td>0.0</td>\n",
       "      <td>0.0</td>\n",
       "      <td>0.0</td>\n",
       "      <td>0.0</td>\n",
       "      <td>0.0</td>\n",
       "      <td>0.0</td>\n",
       "      <td>1.0</td>\n",
       "    </tr>\n",
       "    <tr>\n",
       "      <th>3</th>\n",
       "      <td>0.935618</td>\n",
       "      <td>0.801661</td>\n",
       "      <td>0.805815</td>\n",
       "      <td>1.000000</td>\n",
       "      <td>0.722741</td>\n",
       "      <td>0.480789</td>\n",
       "      <td>0.454829</td>\n",
       "      <td>0.319834</td>\n",
       "      <td>0.266874</td>\n",
       "      <td>0.308411</td>\n",
       "      <td>...</td>\n",
       "      <td>0.0</td>\n",
       "      <td>0.0</td>\n",
       "      <td>0.0</td>\n",
       "      <td>0.0</td>\n",
       "      <td>0.0</td>\n",
       "      <td>0.0</td>\n",
       "      <td>0.0</td>\n",
       "      <td>0.0</td>\n",
       "      <td>0.0</td>\n",
       "      <td>1.0</td>\n",
       "    </tr>\n",
       "    <tr>\n",
       "      <th>4</th>\n",
       "      <td>0.925265</td>\n",
       "      <td>0.433352</td>\n",
       "      <td>0.073620</td>\n",
       "      <td>0.079197</td>\n",
       "      <td>0.136643</td>\n",
       "      <td>0.182934</td>\n",
       "      <td>0.182934</td>\n",
       "      <td>0.182376</td>\n",
       "      <td>0.196877</td>\n",
       "      <td>0.203569</td>\n",
       "      <td>...</td>\n",
       "      <td>0.0</td>\n",
       "      <td>0.0</td>\n",
       "      <td>0.0</td>\n",
       "      <td>0.0</td>\n",
       "      <td>0.0</td>\n",
       "      <td>0.0</td>\n",
       "      <td>0.0</td>\n",
       "      <td>0.0</td>\n",
       "      <td>0.0</td>\n",
       "      <td>1.0</td>\n",
       "    </tr>\n",
       "  </tbody>\n",
       "</table>\n",
       "<p>5 rows × 188 columns</p>\n",
       "</div>"
      ],
      "text/plain": [
       "   9.322328567504882812e-01  8.696785569190979004e-01  \\\n",
       "0                  1.000000                  0.606941   \n",
       "1                  1.000000                  0.951613   \n",
       "2                  0.977819                  0.899261   \n",
       "3                  0.935618                  0.801661   \n",
       "4                  0.925265                  0.433352   \n",
       "\n",
       "   8.861859440803527832e-01  9.296264052391052246e-01  \\\n",
       "0                  0.384181                  0.254237   \n",
       "1                  0.923963                  0.853303   \n",
       "2                  0.230129                  0.032348   \n",
       "3                  0.805815                  1.000000   \n",
       "4                  0.073620                  0.079197   \n",
       "\n",
       "   9.087749719619750977e-01  9.339704513549804688e-01  \\\n",
       "0                  0.223567                  0.276836   \n",
       "1                  0.791859                  0.734255   \n",
       "2                  0.142329                  0.223660   \n",
       "3                  0.722741                  0.480789   \n",
       "4                  0.136643                  0.182934   \n",
       "\n",
       "   8.010425567626953125e-01  7.497828006744384766e-01  \\\n",
       "0                  0.253430                  0.184826   \n",
       "1                  0.672043                  0.685100   \n",
       "2                  0.328096                  0.367837   \n",
       "3                  0.454829                  0.319834   \n",
       "4                  0.182934                  0.182376   \n",
       "\n",
       "   6.872285008430480957e-01  6.350998878479003906e-01  ...  \\\n",
       "0                  0.153349                  0.121872  ...   \n",
       "1                  0.670507                  0.667435  ...   \n",
       "2                  0.381701                  0.389094  ...   \n",
       "3                  0.266874                  0.308411  ...   \n",
       "4                  0.196877                  0.203569  ...   \n",
       "\n",
       "   0.000000000000000000e+00.117  0.000000000000000000e+00.118  \\\n",
       "0                           0.0                           0.0   \n",
       "1                           0.0                           0.0   \n",
       "2                           0.0                           0.0   \n",
       "3                           0.0                           0.0   \n",
       "4                           0.0                           0.0   \n",
       "\n",
       "   0.000000000000000000e+00.119  0.000000000000000000e+00.120  \\\n",
       "0                           0.0                           0.0   \n",
       "1                           0.0                           0.0   \n",
       "2                           0.0                           0.0   \n",
       "3                           0.0                           0.0   \n",
       "4                           0.0                           0.0   \n",
       "\n",
       "   0.000000000000000000e+00.121  0.000000000000000000e+00.122  \\\n",
       "0                           0.0                           0.0   \n",
       "1                           0.0                           0.0   \n",
       "2                           0.0                           0.0   \n",
       "3                           0.0                           0.0   \n",
       "4                           0.0                           0.0   \n",
       "\n",
       "   0.000000000000000000e+00.123  0.000000000000000000e+00.124  \\\n",
       "0                           0.0                           0.0   \n",
       "1                           0.0                           0.0   \n",
       "2                           0.0                           0.0   \n",
       "3                           0.0                           0.0   \n",
       "4                           0.0                           0.0   \n",
       "\n",
       "   0.000000000000000000e+00.125  1.000000000000000000e+00.1  \n",
       "0                           0.0                         1.0  \n",
       "1                           0.0                         1.0  \n",
       "2                           0.0                         1.0  \n",
       "3                           0.0                         1.0  \n",
       "4                           0.0                         1.0  \n",
       "\n",
       "[5 rows x 188 columns]"
      ]
     },
     "execution_count": 8,
     "metadata": {},
     "output_type": "execute_result"
    }
   ],
   "source": [
    "#viewing abnormal dataset\n",
    "abnormal.head()"
   ]
  },
  {
   "cell_type": "code",
   "execution_count": 9,
   "metadata": {
    "colab": {
     "base_uri": "https://localhost:8080/"
    },
    "id": "kphuJzwev9Uz",
    "outputId": "84cc82a7-ce8e-4134-b8b7-499b95b9aa51"
   },
   "outputs": [
    {
     "data": {
      "text/plain": [
       "(4045, 188)"
      ]
     },
     "execution_count": 9,
     "metadata": {},
     "output_type": "execute_result"
    }
   ],
   "source": [
    "#dimenion for normal\n",
    "normal.shape"
   ]
  },
  {
   "cell_type": "code",
   "execution_count": 10,
   "metadata": {
    "colab": {
     "base_uri": "https://localhost:8080/"
    },
    "id": "cpMtI2Fiv9Uz",
    "outputId": "b46424fc-750c-44cb-e7d8-b0a793da7a34"
   },
   "outputs": [
    {
     "data": {
      "text/plain": [
       "(10505, 188)"
      ]
     },
     "execution_count": 10,
     "metadata": {},
     "output_type": "execute_result"
    }
   ],
   "source": [
    "#dimension for abnormal\n",
    "abnormal.shape"
   ]
  },
  {
   "cell_type": "code",
   "execution_count": 11,
   "metadata": {
    "id": "yIvhex_Uv9U0"
   },
   "outputs": [],
   "source": [
    "#changing the random column names to sequential - normal\n",
    "#as we have some numbers name as columns we need to change that to numbers as\n",
    "for normals in normal:\n",
    "    normal.columns = list(range(len(normal.columns)))"
   ]
  },
  {
   "cell_type": "code",
   "execution_count": 12,
   "metadata": {
    "colab": {
     "base_uri": "https://localhost:8080/",
     "height": 299
    },
    "id": "GoHZnvB5v9U0",
    "outputId": "b19f023e-5024-483d-c733-44d3a29d5f44"
   },
   "outputs": [
    {
     "data": {
      "text/html": [
       "<div>\n",
       "<style scoped>\n",
       "    .dataframe tbody tr th:only-of-type {\n",
       "        vertical-align: middle;\n",
       "    }\n",
       "\n",
       "    .dataframe tbody tr th {\n",
       "        vertical-align: top;\n",
       "    }\n",
       "\n",
       "    .dataframe thead th {\n",
       "        text-align: right;\n",
       "    }\n",
       "</style>\n",
       "<table border=\"1\" class=\"dataframe\">\n",
       "  <thead>\n",
       "    <tr style=\"text-align: right;\">\n",
       "      <th></th>\n",
       "      <th>0</th>\n",
       "      <th>1</th>\n",
       "      <th>2</th>\n",
       "      <th>3</th>\n",
       "      <th>4</th>\n",
       "      <th>5</th>\n",
       "      <th>6</th>\n",
       "      <th>7</th>\n",
       "      <th>8</th>\n",
       "      <th>9</th>\n",
       "      <th>...</th>\n",
       "      <th>178</th>\n",
       "      <th>179</th>\n",
       "      <th>180</th>\n",
       "      <th>181</th>\n",
       "      <th>182</th>\n",
       "      <th>183</th>\n",
       "      <th>184</th>\n",
       "      <th>185</th>\n",
       "      <th>186</th>\n",
       "      <th>187</th>\n",
       "    </tr>\n",
       "  </thead>\n",
       "  <tbody>\n",
       "    <tr>\n",
       "      <th>0</th>\n",
       "      <td>1.000000</td>\n",
       "      <td>0.794681</td>\n",
       "      <td>0.375387</td>\n",
       "      <td>0.116883</td>\n",
       "      <td>0.000000</td>\n",
       "      <td>0.171923</td>\n",
       "      <td>0.283859</td>\n",
       "      <td>0.293754</td>\n",
       "      <td>0.325912</td>\n",
       "      <td>0.345083</td>\n",
       "      <td>...</td>\n",
       "      <td>0.0</td>\n",
       "      <td>0.0</td>\n",
       "      <td>0.0</td>\n",
       "      <td>0.0</td>\n",
       "      <td>0.0</td>\n",
       "      <td>0.0</td>\n",
       "      <td>0.0</td>\n",
       "      <td>0.0</td>\n",
       "      <td>0.0</td>\n",
       "      <td>0.0</td>\n",
       "    </tr>\n",
       "    <tr>\n",
       "      <th>1</th>\n",
       "      <td>0.909029</td>\n",
       "      <td>0.791482</td>\n",
       "      <td>0.423169</td>\n",
       "      <td>0.186712</td>\n",
       "      <td>0.000000</td>\n",
       "      <td>0.007836</td>\n",
       "      <td>0.063032</td>\n",
       "      <td>0.077002</td>\n",
       "      <td>0.074957</td>\n",
       "      <td>0.077342</td>\n",
       "      <td>...</td>\n",
       "      <td>0.0</td>\n",
       "      <td>0.0</td>\n",
       "      <td>0.0</td>\n",
       "      <td>0.0</td>\n",
       "      <td>0.0</td>\n",
       "      <td>0.0</td>\n",
       "      <td>0.0</td>\n",
       "      <td>0.0</td>\n",
       "      <td>0.0</td>\n",
       "      <td>0.0</td>\n",
       "    </tr>\n",
       "    <tr>\n",
       "      <th>2</th>\n",
       "      <td>1.000000</td>\n",
       "      <td>0.478893</td>\n",
       "      <td>0.056760</td>\n",
       "      <td>0.064176</td>\n",
       "      <td>0.081289</td>\n",
       "      <td>0.072732</td>\n",
       "      <td>0.055619</td>\n",
       "      <td>0.048774</td>\n",
       "      <td>0.054478</td>\n",
       "      <td>0.041643</td>\n",
       "      <td>...</td>\n",
       "      <td>0.0</td>\n",
       "      <td>0.0</td>\n",
       "      <td>0.0</td>\n",
       "      <td>0.0</td>\n",
       "      <td>0.0</td>\n",
       "      <td>0.0</td>\n",
       "      <td>0.0</td>\n",
       "      <td>0.0</td>\n",
       "      <td>0.0</td>\n",
       "      <td>0.0</td>\n",
       "    </tr>\n",
       "    <tr>\n",
       "      <th>3</th>\n",
       "      <td>1.000000</td>\n",
       "      <td>0.867238</td>\n",
       "      <td>0.201360</td>\n",
       "      <td>0.099349</td>\n",
       "      <td>0.141336</td>\n",
       "      <td>0.120934</td>\n",
       "      <td>0.108516</td>\n",
       "      <td>0.096393</td>\n",
       "      <td>0.093436</td>\n",
       "      <td>0.100828</td>\n",
       "      <td>...</td>\n",
       "      <td>0.0</td>\n",
       "      <td>0.0</td>\n",
       "      <td>0.0</td>\n",
       "      <td>0.0</td>\n",
       "      <td>0.0</td>\n",
       "      <td>0.0</td>\n",
       "      <td>0.0</td>\n",
       "      <td>0.0</td>\n",
       "      <td>0.0</td>\n",
       "      <td>0.0</td>\n",
       "    </tr>\n",
       "    <tr>\n",
       "      <th>4</th>\n",
       "      <td>0.948983</td>\n",
       "      <td>0.505265</td>\n",
       "      <td>0.004176</td>\n",
       "      <td>0.022513</td>\n",
       "      <td>0.059550</td>\n",
       "      <td>0.107298</td>\n",
       "      <td>0.110385</td>\n",
       "      <td>0.111293</td>\n",
       "      <td>0.116558</td>\n",
       "      <td>0.118192</td>\n",
       "      <td>...</td>\n",
       "      <td>0.0</td>\n",
       "      <td>0.0</td>\n",
       "      <td>0.0</td>\n",
       "      <td>0.0</td>\n",
       "      <td>0.0</td>\n",
       "      <td>0.0</td>\n",
       "      <td>0.0</td>\n",
       "      <td>0.0</td>\n",
       "      <td>0.0</td>\n",
       "      <td>0.0</td>\n",
       "    </tr>\n",
       "  </tbody>\n",
       "</table>\n",
       "<p>5 rows × 188 columns</p>\n",
       "</div>"
      ],
      "text/plain": [
       "        0         1         2         3         4         5         6    \\\n",
       "0  1.000000  0.794681  0.375387  0.116883  0.000000  0.171923  0.283859   \n",
       "1  0.909029  0.791482  0.423169  0.186712  0.000000  0.007836  0.063032   \n",
       "2  1.000000  0.478893  0.056760  0.064176  0.081289  0.072732  0.055619   \n",
       "3  1.000000  0.867238  0.201360  0.099349  0.141336  0.120934  0.108516   \n",
       "4  0.948983  0.505265  0.004176  0.022513  0.059550  0.107298  0.110385   \n",
       "\n",
       "        7         8         9    ...  178  179  180  181  182  183  184  185  \\\n",
       "0  0.293754  0.325912  0.345083  ...  0.0  0.0  0.0  0.0  0.0  0.0  0.0  0.0   \n",
       "1  0.077002  0.074957  0.077342  ...  0.0  0.0  0.0  0.0  0.0  0.0  0.0  0.0   \n",
       "2  0.048774  0.054478  0.041643  ...  0.0  0.0  0.0  0.0  0.0  0.0  0.0  0.0   \n",
       "3  0.096393  0.093436  0.100828  ...  0.0  0.0  0.0  0.0  0.0  0.0  0.0  0.0   \n",
       "4  0.111293  0.116558  0.118192  ...  0.0  0.0  0.0  0.0  0.0  0.0  0.0  0.0   \n",
       "\n",
       "   186  187  \n",
       "0  0.0  0.0  \n",
       "1  0.0  0.0  \n",
       "2  0.0  0.0  \n",
       "3  0.0  0.0  \n",
       "4  0.0  0.0  \n",
       "\n",
       "[5 rows x 188 columns]"
      ]
     },
     "execution_count": 12,
     "metadata": {},
     "output_type": "execute_result"
    }
   ],
   "source": [
    "#viewing edited columns for normal data\n",
    "normal.head()"
   ]
  },
  {
   "cell_type": "code",
   "execution_count": 13,
   "metadata": {
    "id": "1cUsWMpJv9U1"
   },
   "outputs": [],
   "source": [
    "#changing the random column names to sequential - abnormal\n",
    "#as we have some numbers name as columns we need to change that to numbers as\n",
    "for abnormals in abnormal:\n",
    "    abnormal.columns = list(range(len(abnormal.columns)))"
   ]
  },
  {
   "cell_type": "code",
   "execution_count": 14,
   "metadata": {
    "colab": {
     "base_uri": "https://localhost:8080/",
     "height": 299
    },
    "id": "EmKzFz9Xv9U1",
    "outputId": "20c0b82e-d852-46e5-97cf-d2e85081e4df"
   },
   "outputs": [
    {
     "data": {
      "text/html": [
       "<div>\n",
       "<style scoped>\n",
       "    .dataframe tbody tr th:only-of-type {\n",
       "        vertical-align: middle;\n",
       "    }\n",
       "\n",
       "    .dataframe tbody tr th {\n",
       "        vertical-align: top;\n",
       "    }\n",
       "\n",
       "    .dataframe thead th {\n",
       "        text-align: right;\n",
       "    }\n",
       "</style>\n",
       "<table border=\"1\" class=\"dataframe\">\n",
       "  <thead>\n",
       "    <tr style=\"text-align: right;\">\n",
       "      <th></th>\n",
       "      <th>0</th>\n",
       "      <th>1</th>\n",
       "      <th>2</th>\n",
       "      <th>3</th>\n",
       "      <th>4</th>\n",
       "      <th>5</th>\n",
       "      <th>6</th>\n",
       "      <th>7</th>\n",
       "      <th>8</th>\n",
       "      <th>9</th>\n",
       "      <th>...</th>\n",
       "      <th>178</th>\n",
       "      <th>179</th>\n",
       "      <th>180</th>\n",
       "      <th>181</th>\n",
       "      <th>182</th>\n",
       "      <th>183</th>\n",
       "      <th>184</th>\n",
       "      <th>185</th>\n",
       "      <th>186</th>\n",
       "      <th>187</th>\n",
       "    </tr>\n",
       "  </thead>\n",
       "  <tbody>\n",
       "    <tr>\n",
       "      <th>0</th>\n",
       "      <td>1.000000</td>\n",
       "      <td>0.606941</td>\n",
       "      <td>0.384181</td>\n",
       "      <td>0.254237</td>\n",
       "      <td>0.223567</td>\n",
       "      <td>0.276836</td>\n",
       "      <td>0.253430</td>\n",
       "      <td>0.184826</td>\n",
       "      <td>0.153349</td>\n",
       "      <td>0.121872</td>\n",
       "      <td>...</td>\n",
       "      <td>0.0</td>\n",
       "      <td>0.0</td>\n",
       "      <td>0.0</td>\n",
       "      <td>0.0</td>\n",
       "      <td>0.0</td>\n",
       "      <td>0.0</td>\n",
       "      <td>0.0</td>\n",
       "      <td>0.0</td>\n",
       "      <td>0.0</td>\n",
       "      <td>1.0</td>\n",
       "    </tr>\n",
       "    <tr>\n",
       "      <th>1</th>\n",
       "      <td>1.000000</td>\n",
       "      <td>0.951613</td>\n",
       "      <td>0.923963</td>\n",
       "      <td>0.853303</td>\n",
       "      <td>0.791859</td>\n",
       "      <td>0.734255</td>\n",
       "      <td>0.672043</td>\n",
       "      <td>0.685100</td>\n",
       "      <td>0.670507</td>\n",
       "      <td>0.667435</td>\n",
       "      <td>...</td>\n",
       "      <td>0.0</td>\n",
       "      <td>0.0</td>\n",
       "      <td>0.0</td>\n",
       "      <td>0.0</td>\n",
       "      <td>0.0</td>\n",
       "      <td>0.0</td>\n",
       "      <td>0.0</td>\n",
       "      <td>0.0</td>\n",
       "      <td>0.0</td>\n",
       "      <td>1.0</td>\n",
       "    </tr>\n",
       "    <tr>\n",
       "      <th>2</th>\n",
       "      <td>0.977819</td>\n",
       "      <td>0.899261</td>\n",
       "      <td>0.230129</td>\n",
       "      <td>0.032348</td>\n",
       "      <td>0.142329</td>\n",
       "      <td>0.223660</td>\n",
       "      <td>0.328096</td>\n",
       "      <td>0.367837</td>\n",
       "      <td>0.381701</td>\n",
       "      <td>0.389094</td>\n",
       "      <td>...</td>\n",
       "      <td>0.0</td>\n",
       "      <td>0.0</td>\n",
       "      <td>0.0</td>\n",
       "      <td>0.0</td>\n",
       "      <td>0.0</td>\n",
       "      <td>0.0</td>\n",
       "      <td>0.0</td>\n",
       "      <td>0.0</td>\n",
       "      <td>0.0</td>\n",
       "      <td>1.0</td>\n",
       "    </tr>\n",
       "    <tr>\n",
       "      <th>3</th>\n",
       "      <td>0.935618</td>\n",
       "      <td>0.801661</td>\n",
       "      <td>0.805815</td>\n",
       "      <td>1.000000</td>\n",
       "      <td>0.722741</td>\n",
       "      <td>0.480789</td>\n",
       "      <td>0.454829</td>\n",
       "      <td>0.319834</td>\n",
       "      <td>0.266874</td>\n",
       "      <td>0.308411</td>\n",
       "      <td>...</td>\n",
       "      <td>0.0</td>\n",
       "      <td>0.0</td>\n",
       "      <td>0.0</td>\n",
       "      <td>0.0</td>\n",
       "      <td>0.0</td>\n",
       "      <td>0.0</td>\n",
       "      <td>0.0</td>\n",
       "      <td>0.0</td>\n",
       "      <td>0.0</td>\n",
       "      <td>1.0</td>\n",
       "    </tr>\n",
       "    <tr>\n",
       "      <th>4</th>\n",
       "      <td>0.925265</td>\n",
       "      <td>0.433352</td>\n",
       "      <td>0.073620</td>\n",
       "      <td>0.079197</td>\n",
       "      <td>0.136643</td>\n",
       "      <td>0.182934</td>\n",
       "      <td>0.182934</td>\n",
       "      <td>0.182376</td>\n",
       "      <td>0.196877</td>\n",
       "      <td>0.203569</td>\n",
       "      <td>...</td>\n",
       "      <td>0.0</td>\n",
       "      <td>0.0</td>\n",
       "      <td>0.0</td>\n",
       "      <td>0.0</td>\n",
       "      <td>0.0</td>\n",
       "      <td>0.0</td>\n",
       "      <td>0.0</td>\n",
       "      <td>0.0</td>\n",
       "      <td>0.0</td>\n",
       "      <td>1.0</td>\n",
       "    </tr>\n",
       "  </tbody>\n",
       "</table>\n",
       "<p>5 rows × 188 columns</p>\n",
       "</div>"
      ],
      "text/plain": [
       "        0         1         2         3         4         5         6    \\\n",
       "0  1.000000  0.606941  0.384181  0.254237  0.223567  0.276836  0.253430   \n",
       "1  1.000000  0.951613  0.923963  0.853303  0.791859  0.734255  0.672043   \n",
       "2  0.977819  0.899261  0.230129  0.032348  0.142329  0.223660  0.328096   \n",
       "3  0.935618  0.801661  0.805815  1.000000  0.722741  0.480789  0.454829   \n",
       "4  0.925265  0.433352  0.073620  0.079197  0.136643  0.182934  0.182934   \n",
       "\n",
       "        7         8         9    ...  178  179  180  181  182  183  184  185  \\\n",
       "0  0.184826  0.153349  0.121872  ...  0.0  0.0  0.0  0.0  0.0  0.0  0.0  0.0   \n",
       "1  0.685100  0.670507  0.667435  ...  0.0  0.0  0.0  0.0  0.0  0.0  0.0  0.0   \n",
       "2  0.367837  0.381701  0.389094  ...  0.0  0.0  0.0  0.0  0.0  0.0  0.0  0.0   \n",
       "3  0.319834  0.266874  0.308411  ...  0.0  0.0  0.0  0.0  0.0  0.0  0.0  0.0   \n",
       "4  0.182376  0.196877  0.203569  ...  0.0  0.0  0.0  0.0  0.0  0.0  0.0  0.0   \n",
       "\n",
       "   186  187  \n",
       "0  0.0  1.0  \n",
       "1  0.0  1.0  \n",
       "2  0.0  1.0  \n",
       "3  0.0  1.0  \n",
       "4  0.0  1.0  \n",
       "\n",
       "[5 rows x 188 columns]"
      ]
     },
     "execution_count": 14,
     "metadata": {},
     "output_type": "execute_result"
    }
   ],
   "source": [
    "#viewing edited columns for abnormal data\n",
    "abnormal.head()"
   ]
  },
  {
   "cell_type": "code",
   "execution_count": 15,
   "metadata": {
    "id": "ikS2enNjv9U2"
   },
   "outputs": [],
   "source": [
    "#combining two data into one\n",
    "#suffling the dataset and dropping the index\n",
    "#As when concatenating we all have arranged 0 and 1 class in order manner\n",
    "dataset = pd.concat([normal, abnormal], axis=0).sample(frac=1.0, random_state =0).reset_index(drop=True)"
   ]
  },
  {
   "cell_type": "code",
   "execution_count": 16,
   "metadata": {
    "colab": {
     "base_uri": "https://localhost:8080/",
     "height": 299
    },
    "id": "kGVvA6RRv9U2",
    "outputId": "1abbf628-8de4-483e-da44-671105860bd7"
   },
   "outputs": [
    {
     "data": {
      "text/html": [
       "<div>\n",
       "<style scoped>\n",
       "    .dataframe tbody tr th:only-of-type {\n",
       "        vertical-align: middle;\n",
       "    }\n",
       "\n",
       "    .dataframe tbody tr th {\n",
       "        vertical-align: top;\n",
       "    }\n",
       "\n",
       "    .dataframe thead th {\n",
       "        text-align: right;\n",
       "    }\n",
       "</style>\n",
       "<table border=\"1\" class=\"dataframe\">\n",
       "  <thead>\n",
       "    <tr style=\"text-align: right;\">\n",
       "      <th></th>\n",
       "      <th>0</th>\n",
       "      <th>1</th>\n",
       "      <th>2</th>\n",
       "      <th>3</th>\n",
       "      <th>4</th>\n",
       "      <th>5</th>\n",
       "      <th>6</th>\n",
       "      <th>7</th>\n",
       "      <th>8</th>\n",
       "      <th>9</th>\n",
       "      <th>...</th>\n",
       "      <th>178</th>\n",
       "      <th>179</th>\n",
       "      <th>180</th>\n",
       "      <th>181</th>\n",
       "      <th>182</th>\n",
       "      <th>183</th>\n",
       "      <th>184</th>\n",
       "      <th>185</th>\n",
       "      <th>186</th>\n",
       "      <th>187</th>\n",
       "    </tr>\n",
       "  </thead>\n",
       "  <tbody>\n",
       "    <tr>\n",
       "      <th>0</th>\n",
       "      <td>1.000000</td>\n",
       "      <td>0.487164</td>\n",
       "      <td>0.368582</td>\n",
       "      <td>0.424205</td>\n",
       "      <td>0.346577</td>\n",
       "      <td>0.328851</td>\n",
       "      <td>0.287897</td>\n",
       "      <td>0.295232</td>\n",
       "      <td>0.333741</td>\n",
       "      <td>0.306846</td>\n",
       "      <td>...</td>\n",
       "      <td>0.0</td>\n",
       "      <td>0.0</td>\n",
       "      <td>0.0</td>\n",
       "      <td>0.0</td>\n",
       "      <td>0.0</td>\n",
       "      <td>0.0</td>\n",
       "      <td>0.0</td>\n",
       "      <td>0.0</td>\n",
       "      <td>0.0</td>\n",
       "      <td>1.0</td>\n",
       "    </tr>\n",
       "    <tr>\n",
       "      <th>1</th>\n",
       "      <td>0.960630</td>\n",
       "      <td>0.981252</td>\n",
       "      <td>0.764154</td>\n",
       "      <td>0.410949</td>\n",
       "      <td>0.155980</td>\n",
       "      <td>0.009749</td>\n",
       "      <td>0.064867</td>\n",
       "      <td>0.130484</td>\n",
       "      <td>0.123360</td>\n",
       "      <td>0.126359</td>\n",
       "      <td>...</td>\n",
       "      <td>0.0</td>\n",
       "      <td>0.0</td>\n",
       "      <td>0.0</td>\n",
       "      <td>0.0</td>\n",
       "      <td>0.0</td>\n",
       "      <td>0.0</td>\n",
       "      <td>0.0</td>\n",
       "      <td>0.0</td>\n",
       "      <td>0.0</td>\n",
       "      <td>0.0</td>\n",
       "    </tr>\n",
       "    <tr>\n",
       "      <th>2</th>\n",
       "      <td>0.960156</td>\n",
       "      <td>0.596484</td>\n",
       "      <td>0.528906</td>\n",
       "      <td>0.286719</td>\n",
       "      <td>0.113281</td>\n",
       "      <td>0.108984</td>\n",
       "      <td>0.040234</td>\n",
       "      <td>0.021484</td>\n",
       "      <td>0.030469</td>\n",
       "      <td>0.000000</td>\n",
       "      <td>...</td>\n",
       "      <td>0.0</td>\n",
       "      <td>0.0</td>\n",
       "      <td>0.0</td>\n",
       "      <td>0.0</td>\n",
       "      <td>0.0</td>\n",
       "      <td>0.0</td>\n",
       "      <td>0.0</td>\n",
       "      <td>0.0</td>\n",
       "      <td>0.0</td>\n",
       "      <td>1.0</td>\n",
       "    </tr>\n",
       "    <tr>\n",
       "      <th>3</th>\n",
       "      <td>1.000000</td>\n",
       "      <td>0.526476</td>\n",
       "      <td>0.387097</td>\n",
       "      <td>0.384662</td>\n",
       "      <td>0.421181</td>\n",
       "      <td>0.335971</td>\n",
       "      <td>0.231284</td>\n",
       "      <td>0.276324</td>\n",
       "      <td>0.211808</td>\n",
       "      <td>0.237371</td>\n",
       "      <td>...</td>\n",
       "      <td>0.0</td>\n",
       "      <td>0.0</td>\n",
       "      <td>0.0</td>\n",
       "      <td>0.0</td>\n",
       "      <td>0.0</td>\n",
       "      <td>0.0</td>\n",
       "      <td>0.0</td>\n",
       "      <td>0.0</td>\n",
       "      <td>0.0</td>\n",
       "      <td>1.0</td>\n",
       "    </tr>\n",
       "    <tr>\n",
       "      <th>4</th>\n",
       "      <td>0.957125</td>\n",
       "      <td>0.695460</td>\n",
       "      <td>0.343001</td>\n",
       "      <td>0.159521</td>\n",
       "      <td>0.085750</td>\n",
       "      <td>0.075662</td>\n",
       "      <td>0.108449</td>\n",
       "      <td>0.089533</td>\n",
       "      <td>0.108449</td>\n",
       "      <td>0.105296</td>\n",
       "      <td>...</td>\n",
       "      <td>0.0</td>\n",
       "      <td>0.0</td>\n",
       "      <td>0.0</td>\n",
       "      <td>0.0</td>\n",
       "      <td>0.0</td>\n",
       "      <td>0.0</td>\n",
       "      <td>0.0</td>\n",
       "      <td>0.0</td>\n",
       "      <td>0.0</td>\n",
       "      <td>1.0</td>\n",
       "    </tr>\n",
       "  </tbody>\n",
       "</table>\n",
       "<p>5 rows × 188 columns</p>\n",
       "</div>"
      ],
      "text/plain": [
       "        0         1         2         3         4         5         6    \\\n",
       "0  1.000000  0.487164  0.368582  0.424205  0.346577  0.328851  0.287897   \n",
       "1  0.960630  0.981252  0.764154  0.410949  0.155980  0.009749  0.064867   \n",
       "2  0.960156  0.596484  0.528906  0.286719  0.113281  0.108984  0.040234   \n",
       "3  1.000000  0.526476  0.387097  0.384662  0.421181  0.335971  0.231284   \n",
       "4  0.957125  0.695460  0.343001  0.159521  0.085750  0.075662  0.108449   \n",
       "\n",
       "        7         8         9    ...  178  179  180  181  182  183  184  185  \\\n",
       "0  0.295232  0.333741  0.306846  ...  0.0  0.0  0.0  0.0  0.0  0.0  0.0  0.0   \n",
       "1  0.130484  0.123360  0.126359  ...  0.0  0.0  0.0  0.0  0.0  0.0  0.0  0.0   \n",
       "2  0.021484  0.030469  0.000000  ...  0.0  0.0  0.0  0.0  0.0  0.0  0.0  0.0   \n",
       "3  0.276324  0.211808  0.237371  ...  0.0  0.0  0.0  0.0  0.0  0.0  0.0  0.0   \n",
       "4  0.089533  0.108449  0.105296  ...  0.0  0.0  0.0  0.0  0.0  0.0  0.0  0.0   \n",
       "\n",
       "   186  187  \n",
       "0  0.0  1.0  \n",
       "1  0.0  0.0  \n",
       "2  0.0  1.0  \n",
       "3  0.0  1.0  \n",
       "4  0.0  1.0  \n",
       "\n",
       "[5 rows x 188 columns]"
      ]
     },
     "execution_count": 16,
     "metadata": {},
     "output_type": "execute_result"
    }
   ],
   "source": [
    "#viewing combined dataset\n",
    "dataset.head()"
   ]
  },
  {
   "cell_type": "code",
   "execution_count": 17,
   "metadata": {
    "colab": {
     "base_uri": "https://localhost:8080/"
    },
    "id": "bPzLjNQDv9U2",
    "outputId": "82220884-2798-451a-f78d-8ce263e44bfa"
   },
   "outputs": [
    {
     "data": {
      "text/plain": [
       "(14550, 188)"
      ]
     },
     "execution_count": 17,
     "metadata": {},
     "output_type": "execute_result"
    }
   ],
   "source": [
    "dataset.shape"
   ]
  },
  {
   "cell_type": "code",
   "execution_count": 18,
   "metadata": {
    "colab": {
     "base_uri": "https://localhost:8080/",
     "height": 394
    },
    "id": "GoJt_1A0v9U3",
    "outputId": "0418c8fc-8489-4d57-bb9c-bd0e013d8445"
   },
   "outputs": [
    {
     "data": {
      "text/html": [
       "<div>\n",
       "<style scoped>\n",
       "    .dataframe tbody tr th:only-of-type {\n",
       "        vertical-align: middle;\n",
       "    }\n",
       "\n",
       "    .dataframe tbody tr th {\n",
       "        vertical-align: top;\n",
       "    }\n",
       "\n",
       "    .dataframe thead th {\n",
       "        text-align: right;\n",
       "    }\n",
       "</style>\n",
       "<table border=\"1\" class=\"dataframe\">\n",
       "  <thead>\n",
       "    <tr style=\"text-align: right;\">\n",
       "      <th></th>\n",
       "      <th>0</th>\n",
       "      <th>1</th>\n",
       "      <th>2</th>\n",
       "      <th>3</th>\n",
       "      <th>4</th>\n",
       "      <th>5</th>\n",
       "      <th>6</th>\n",
       "      <th>7</th>\n",
       "      <th>8</th>\n",
       "      <th>9</th>\n",
       "      <th>...</th>\n",
       "      <th>178</th>\n",
       "      <th>179</th>\n",
       "      <th>180</th>\n",
       "      <th>181</th>\n",
       "      <th>182</th>\n",
       "      <th>183</th>\n",
       "      <th>184</th>\n",
       "      <th>185</th>\n",
       "      <th>186</th>\n",
       "      <th>187</th>\n",
       "    </tr>\n",
       "  </thead>\n",
       "  <tbody>\n",
       "    <tr>\n",
       "      <th>count</th>\n",
       "      <td>14550.000000</td>\n",
       "      <td>14550.000000</td>\n",
       "      <td>14550.000000</td>\n",
       "      <td>14550.000000</td>\n",
       "      <td>14550.000000</td>\n",
       "      <td>14550.000000</td>\n",
       "      <td>14550.000000</td>\n",
       "      <td>14550.000000</td>\n",
       "      <td>14550.000000</td>\n",
       "      <td>14550.000000</td>\n",
       "      <td>...</td>\n",
       "      <td>14550.000000</td>\n",
       "      <td>14550.000000</td>\n",
       "      <td>14550.000000</td>\n",
       "      <td>14550.000000</td>\n",
       "      <td>14550.000000</td>\n",
       "      <td>14550.000000</td>\n",
       "      <td>14550.000000</td>\n",
       "      <td>14550.000000</td>\n",
       "      <td>14550.0</td>\n",
       "      <td>14550.000000</td>\n",
       "    </tr>\n",
       "    <tr>\n",
       "      <th>mean</th>\n",
       "      <td>0.976638</td>\n",
       "      <td>0.721640</td>\n",
       "      <td>0.403068</td>\n",
       "      <td>0.242859</td>\n",
       "      <td>0.207181</td>\n",
       "      <td>0.216410</td>\n",
       "      <td>0.221718</td>\n",
       "      <td>0.224457</td>\n",
       "      <td>0.227325</td>\n",
       "      <td>0.229684</td>\n",
       "      <td>...</td>\n",
       "      <td>0.001190</td>\n",
       "      <td>0.001133</td>\n",
       "      <td>0.000900</td>\n",
       "      <td>0.000739</td>\n",
       "      <td>0.000661</td>\n",
       "      <td>0.000475</td>\n",
       "      <td>0.000177</td>\n",
       "      <td>0.000185</td>\n",
       "      <td>0.0</td>\n",
       "      <td>0.721993</td>\n",
       "    </tr>\n",
       "    <tr>\n",
       "      <th>std</th>\n",
       "      <td>0.034532</td>\n",
       "      <td>0.195694</td>\n",
       "      <td>0.249779</td>\n",
       "      <td>0.249466</td>\n",
       "      <td>0.218030</td>\n",
       "      <td>0.192331</td>\n",
       "      <td>0.180687</td>\n",
       "      <td>0.176900</td>\n",
       "      <td>0.176642</td>\n",
       "      <td>0.176557</td>\n",
       "      <td>...</td>\n",
       "      <td>0.021363</td>\n",
       "      <td>0.021014</td>\n",
       "      <td>0.017317</td>\n",
       "      <td>0.014641</td>\n",
       "      <td>0.014034</td>\n",
       "      <td>0.012290</td>\n",
       "      <td>0.006545</td>\n",
       "      <td>0.006836</td>\n",
       "      <td>0.0</td>\n",
       "      <td>0.448032</td>\n",
       "    </tr>\n",
       "    <tr>\n",
       "      <th>min</th>\n",
       "      <td>0.624227</td>\n",
       "      <td>0.000000</td>\n",
       "      <td>0.000000</td>\n",
       "      <td>0.000000</td>\n",
       "      <td>0.000000</td>\n",
       "      <td>0.000000</td>\n",
       "      <td>0.000000</td>\n",
       "      <td>0.000000</td>\n",
       "      <td>0.000000</td>\n",
       "      <td>0.000000</td>\n",
       "      <td>...</td>\n",
       "      <td>0.000000</td>\n",
       "      <td>0.000000</td>\n",
       "      <td>0.000000</td>\n",
       "      <td>0.000000</td>\n",
       "      <td>0.000000</td>\n",
       "      <td>0.000000</td>\n",
       "      <td>0.000000</td>\n",
       "      <td>0.000000</td>\n",
       "      <td>0.0</td>\n",
       "      <td>0.000000</td>\n",
       "    </tr>\n",
       "    <tr>\n",
       "      <th>25%</th>\n",
       "      <td>0.959381</td>\n",
       "      <td>0.584500</td>\n",
       "      <td>0.212294</td>\n",
       "      <td>0.052278</td>\n",
       "      <td>0.061899</td>\n",
       "      <td>0.090473</td>\n",
       "      <td>0.096495</td>\n",
       "      <td>0.097092</td>\n",
       "      <td>0.097225</td>\n",
       "      <td>0.097127</td>\n",
       "      <td>...</td>\n",
       "      <td>0.000000</td>\n",
       "      <td>0.000000</td>\n",
       "      <td>0.000000</td>\n",
       "      <td>0.000000</td>\n",
       "      <td>0.000000</td>\n",
       "      <td>0.000000</td>\n",
       "      <td>0.000000</td>\n",
       "      <td>0.000000</td>\n",
       "      <td>0.0</td>\n",
       "      <td>0.000000</td>\n",
       "    </tr>\n",
       "    <tr>\n",
       "      <th>50%</th>\n",
       "      <td>1.000000</td>\n",
       "      <td>0.740115</td>\n",
       "      <td>0.371911</td>\n",
       "      <td>0.168148</td>\n",
       "      <td>0.136082</td>\n",
       "      <td>0.159451</td>\n",
       "      <td>0.167479</td>\n",
       "      <td>0.171541</td>\n",
       "      <td>0.177380</td>\n",
       "      <td>0.180337</td>\n",
       "      <td>...</td>\n",
       "      <td>0.000000</td>\n",
       "      <td>0.000000</td>\n",
       "      <td>0.000000</td>\n",
       "      <td>0.000000</td>\n",
       "      <td>0.000000</td>\n",
       "      <td>0.000000</td>\n",
       "      <td>0.000000</td>\n",
       "      <td>0.000000</td>\n",
       "      <td>0.0</td>\n",
       "      <td>1.000000</td>\n",
       "    </tr>\n",
       "    <tr>\n",
       "      <th>75%</th>\n",
       "      <td>1.000000</td>\n",
       "      <td>0.881478</td>\n",
       "      <td>0.557741</td>\n",
       "      <td>0.336155</td>\n",
       "      <td>0.264083</td>\n",
       "      <td>0.264610</td>\n",
       "      <td>0.286449</td>\n",
       "      <td>0.302235</td>\n",
       "      <td>0.311657</td>\n",
       "      <td>0.325235</td>\n",
       "      <td>...</td>\n",
       "      <td>0.000000</td>\n",
       "      <td>0.000000</td>\n",
       "      <td>0.000000</td>\n",
       "      <td>0.000000</td>\n",
       "      <td>0.000000</td>\n",
       "      <td>0.000000</td>\n",
       "      <td>0.000000</td>\n",
       "      <td>0.000000</td>\n",
       "      <td>0.0</td>\n",
       "      <td>1.000000</td>\n",
       "    </tr>\n",
       "    <tr>\n",
       "      <th>max</th>\n",
       "      <td>1.000000</td>\n",
       "      <td>1.000000</td>\n",
       "      <td>1.000000</td>\n",
       "      <td>1.000000</td>\n",
       "      <td>1.000000</td>\n",
       "      <td>1.000000</td>\n",
       "      <td>1.000000</td>\n",
       "      <td>0.985523</td>\n",
       "      <td>0.993213</td>\n",
       "      <td>0.997738</td>\n",
       "      <td>...</td>\n",
       "      <td>0.791899</td>\n",
       "      <td>0.773743</td>\n",
       "      <td>0.789804</td>\n",
       "      <td>0.628177</td>\n",
       "      <td>0.602033</td>\n",
       "      <td>0.644880</td>\n",
       "      <td>0.371502</td>\n",
       "      <td>0.376668</td>\n",
       "      <td>0.0</td>\n",
       "      <td>1.000000</td>\n",
       "    </tr>\n",
       "  </tbody>\n",
       "</table>\n",
       "<p>8 rows × 188 columns</p>\n",
       "</div>"
      ],
      "text/plain": [
       "                0             1             2             3             4    \\\n",
       "count  14550.000000  14550.000000  14550.000000  14550.000000  14550.000000   \n",
       "mean       0.976638      0.721640      0.403068      0.242859      0.207181   \n",
       "std        0.034532      0.195694      0.249779      0.249466      0.218030   \n",
       "min        0.624227      0.000000      0.000000      0.000000      0.000000   \n",
       "25%        0.959381      0.584500      0.212294      0.052278      0.061899   \n",
       "50%        1.000000      0.740115      0.371911      0.168148      0.136082   \n",
       "75%        1.000000      0.881478      0.557741      0.336155      0.264083   \n",
       "max        1.000000      1.000000      1.000000      1.000000      1.000000   \n",
       "\n",
       "                5             6             7             8             9    \\\n",
       "count  14550.000000  14550.000000  14550.000000  14550.000000  14550.000000   \n",
       "mean       0.216410      0.221718      0.224457      0.227325      0.229684   \n",
       "std        0.192331      0.180687      0.176900      0.176642      0.176557   \n",
       "min        0.000000      0.000000      0.000000      0.000000      0.000000   \n",
       "25%        0.090473      0.096495      0.097092      0.097225      0.097127   \n",
       "50%        0.159451      0.167479      0.171541      0.177380      0.180337   \n",
       "75%        0.264610      0.286449      0.302235      0.311657      0.325235   \n",
       "max        1.000000      1.000000      0.985523      0.993213      0.997738   \n",
       "\n",
       "       ...           178           179           180           181  \\\n",
       "count  ...  14550.000000  14550.000000  14550.000000  14550.000000   \n",
       "mean   ...      0.001190      0.001133      0.000900      0.000739   \n",
       "std    ...      0.021363      0.021014      0.017317      0.014641   \n",
       "min    ...      0.000000      0.000000      0.000000      0.000000   \n",
       "25%    ...      0.000000      0.000000      0.000000      0.000000   \n",
       "50%    ...      0.000000      0.000000      0.000000      0.000000   \n",
       "75%    ...      0.000000      0.000000      0.000000      0.000000   \n",
       "max    ...      0.791899      0.773743      0.789804      0.628177   \n",
       "\n",
       "                182           183           184           185      186  \\\n",
       "count  14550.000000  14550.000000  14550.000000  14550.000000  14550.0   \n",
       "mean       0.000661      0.000475      0.000177      0.000185      0.0   \n",
       "std        0.014034      0.012290      0.006545      0.006836      0.0   \n",
       "min        0.000000      0.000000      0.000000      0.000000      0.0   \n",
       "25%        0.000000      0.000000      0.000000      0.000000      0.0   \n",
       "50%        0.000000      0.000000      0.000000      0.000000      0.0   \n",
       "75%        0.000000      0.000000      0.000000      0.000000      0.0   \n",
       "max        0.602033      0.644880      0.371502      0.376668      0.0   \n",
       "\n",
       "                187  \n",
       "count  14550.000000  \n",
       "mean       0.721993  \n",
       "std        0.448032  \n",
       "min        0.000000  \n",
       "25%        0.000000  \n",
       "50%        1.000000  \n",
       "75%        1.000000  \n",
       "max        1.000000  \n",
       "\n",
       "[8 rows x 188 columns]"
      ]
     },
     "execution_count": 18,
     "metadata": {},
     "output_type": "execute_result"
    }
   ],
   "source": [
    "#basic info of statistics\n",
    "dataset.describe()"
   ]
  },
  {
   "cell_type": "code",
   "execution_count": 19,
   "metadata": {
    "colab": {
     "base_uri": "https://localhost:8080/"
    },
    "id": "3rBU3nNbv9U3",
    "outputId": "35f35b63-8c2d-4e0d-f35b-157557a4d5f5"
   },
   "outputs": [
    {
     "name": "stdout",
     "output_type": "stream",
     "text": [
      "<class 'pandas.core.frame.DataFrame'>\n",
      "RangeIndex: 14550 entries, 0 to 14549\n",
      "Columns: 188 entries, 0 to 187\n",
      "dtypes: float64(188)\n",
      "memory usage: 20.9 MB\n"
     ]
    }
   ],
   "source": [
    "#basic information of dataset\n",
    "dataset.info()"
   ]
  },
  {
   "cell_type": "code",
   "execution_count": 20,
   "metadata": {
    "colab": {
     "base_uri": "https://localhost:8080/"
    },
    "id": "K-9gTg6Nv9U3",
    "outputId": "64a155e4-ba8b-4157-faba-90e771c30306"
   },
   "outputs": [
    {
     "data": {
      "text/plain": [
       "0       6905\n",
       "1      13303\n",
       "2      14020\n",
       "3      12749\n",
       "4      13172\n",
       "       ...  \n",
       "183       33\n",
       "184       15\n",
       "185       15\n",
       "186        1\n",
       "187        2\n",
       "Length: 188, dtype: int64"
      ]
     },
     "execution_count": 20,
     "metadata": {},
     "output_type": "execute_result"
    }
   ],
   "source": [
    "#viewing the uniqueness in dataset\n",
    "dataset.nunique()"
   ]
  },
  {
   "cell_type": "code",
   "execution_count": 21,
   "metadata": {
    "colab": {
     "base_uri": "https://localhost:8080/"
    },
    "id": "VUCElKiUv9U3",
    "outputId": "fa278373-d664-412a-a12c-785eb2f13cb9"
   },
   "outputs": [
    {
     "name": "stdout",
     "output_type": "stream",
     "text": [
      "Any missing data or NaN in the dataset: False\n"
     ]
    }
   ],
   "source": [
    "#missing values any from the dataset\n",
    "print(str('Any missing data or NaN in the dataset:'), dataset.isnull().values.any())"
   ]
  },
  {
   "cell_type": "code",
   "execution_count": 22,
   "metadata": {
    "colab": {
     "base_uri": "https://localhost:8080/"
    },
    "id": "pECIHii2v9U4",
    "outputId": "0edc8041-80e4-4b56-f07f-bf1427cc9d60"
   },
   "outputs": [
    {
     "name": "stdout",
     "output_type": "stream",
     "text": [
      "The minimum and maximum values are 0.0, 1.0\n"
     ]
    }
   ],
   "source": [
    "#data ranges in the dataset - sample\n",
    "print(\"The minimum and maximum values are {}, {}\".format(np.min(dataset.iloc[-2,:].values), np.max(dataset.iloc[-2,:].values)))"
   ]
  },
  {
   "cell_type": "code",
   "execution_count": 23,
   "metadata": {
    "colab": {
     "base_uri": "https://localhost:8080/"
    },
    "id": "UCDNFK0uv9U4",
    "outputId": "7ad5528c-43c0-4066-add9-314dba3f59e8"
   },
   "outputs": [
    {
     "data": {
      "text/plain": [
       "1.0    10505\n",
       "0.0     4045\n",
       "Name: 187, dtype: int64"
      ]
     },
     "execution_count": 23,
     "metadata": {},
     "output_type": "execute_result"
    }
   ],
   "source": [
    "#for target value count\n",
    "label_dataset = dataset[187].value_counts()\n",
    "label_dataset"
   ]
  },
  {
   "cell_type": "code",
   "execution_count": 24,
   "metadata": {
    "colab": {
     "base_uri": "https://localhost:8080/",
     "height": 288
    },
    "id": "oYqqOUpjv9U4",
    "outputId": "29d5e65c-23b2-444b-e9cc-04d88fc35226"
   },
   "outputs": [
    {
     "data": {
      "text/plain": [
       "<AxesSubplot:>"
      ]
     },
     "execution_count": 24,
     "metadata": {},
     "output_type": "execute_result"
    },
    {
     "data": {
      "image/png": "[encoded data removed]",
      "text/plain": [
       "<Figure size 432x288 with 1 Axes>"
      ]
     },
     "metadata": {
      "needs_background": "light"
     },
     "output_type": "display_data"
    }
   ],
   "source": [
    "#visualization for target label\n",
    "label_dataset.plot.bar()"
   ]
  },
  {
   "cell_type": "code",
   "execution_count": 25,
   "metadata": {
    "id": "WEGpVijgv9U4"
   },
   "outputs": [],
   "source": [
    "#splitting dataset to dependent and independent variable\n",
    "X = dataset.iloc[:,:-1].values #independent values / features\n",
    "y = dataset.iloc[:,-1].values #dependent values / target"
   ]
  },
  {
   "cell_type": "code",
   "execution_count": 26,
   "metadata": {
    "id": "iGsK-2_tv9U5"
   },
   "outputs": [],
   "source": [
    "#splitting the datasets for training and testing process\n",
    "from sklearn.model_selection import train_test_split\n",
    "X_train, X_test, y_train, y_test = train_test_split(X, y, test_size =0.3, random_state=42)"
   ]
  },
  {
   "cell_type": "code",
   "execution_count": 27,
   "metadata": {
    "colab": {
     "base_uri": "https://localhost:8080/"
    },
    "id": "njfzHJIdv9U5",
    "outputId": "56e6006b-c042-464b-dfd5-478675fa53e0"
   },
   "outputs": [
    {
     "name": "stdout",
     "output_type": "stream",
     "text": [
      "size of X_train: (10185, 187)\n",
      "size of X_test: (4365, 187)\n",
      "size of y_train: (10185,)\n",
      "size of y_test: (4365,)\n"
     ]
    }
   ],
   "source": [
    "#size for the sets\n",
    "print('size of X_train:', X_train.shape)\n",
    "print('size of X_test:', X_test.shape)\n",
    "print('size of y_train:', y_train.shape)\n",
    "print('size of y_test:', y_test.shape)"
   ]
  },
  {
   "cell_type": "markdown",
   "metadata": {
    "id": "cquxOI5xv9U5"
   },
   "source": [
    "                                          ###Deep Learning Algorithms###"
   ]
  },
  {
   "cell_type": "code",
   "execution_count": 28,
   "metadata": {
    "id": "hdt0P9AMv9U6"
   },
   "outputs": [],
   "source": [
    "import keras\n",
    "from keras.models import Sequential\n",
    "from keras.layers import Dense, Dropout, Flatten\n",
    "from keras.layers import Conv1D, MaxPooling1D, Dropout, MaxPool1D \n",
    "from tensorflow.keras.optimizers import SGD\n",
    "from tensorflow.keras.layers import BatchNormalization\n",
    "from keras.layers import LeakyReLU"
   ]
  },
  {
   "cell_type": "code",
   "execution_count": 29,
   "metadata": {
    "id": "LFVuT2SEv9U6"
   },
   "outputs": [],
   "source": [
    "# Create sequential model \n",
    "feature_extractor = Sequential()\n",
    "\n",
    "#1st block Conv 8 \n",
    "feature_extractor.add(Conv1D(filters=8, kernel_size=(3,), padding='same', activation='relu', input_shape = (X_train.shape[1],1)))\n",
    "feature_extractor.add(MaxPool1D(pool_size=(3,), strides=2, padding='same'))\n",
    "\n",
    "#1st block Conv 16 \n",
    "feature_extractor.add(Conv1D(filters=16, kernel_size=(3,), padding='same', activation='relu', input_shape = (X_train.shape[1],1)))\n",
    "feature_extractor.add(MaxPool1D(pool_size=(3,), strides=2, padding='same'))\n",
    "\n",
    "#1st block Conv 32\n",
    "feature_extractor.add(Conv1D(filters=32, kernel_size=(3,), padding='same', activation='relu', input_shape = (X_train.shape[1],1)))\n",
    "feature_extractor.add(MaxPool1D(pool_size=(3,), strides=2, padding='same'))\n",
    "\n",
    "#1st block Conv 64\n",
    "feature_extractor.add(Conv1D(filters=64, kernel_size=(3,), padding='same', activation='relu', input_shape = (X_train.shape[1],1)))\n",
    "feature_extractor.add(MaxPool1D(pool_size=(3,), strides=2, padding='same'))\n",
    "\n",
    "#1st block Conv 128\n",
    "feature_extractor.add(Conv1D(filters=128, kernel_size=(3,), padding='same', activation='relu', input_shape = (X_train.shape[1],1)))\n",
    "feature_extractor.add(MaxPool1D(pool_size=(3,), strides=2, padding='same'))\n",
    "\n",
    "#1st block Conv 256\n",
    "feature_extractor.add(Conv1D(filters=256, kernel_size=(3,), padding='same', activation='relu', input_shape = (X_train.shape[1],1)))\n",
    "feature_extractor.add(MaxPool1D(pool_size=(3,), strides=2, padding='same'))\n",
    "\n",
    "#1st block Conv 512\n",
    "feature_extractor.add(Conv1D(filters=512, kernel_size=(3,), padding='same', activation='relu', input_shape = (X_train.shape[1],1)))\n",
    "feature_extractor.add(MaxPool1D(pool_size=(3,), strides=2, padding='same'))\n",
    "\n",
    "#Flatten the output\n",
    "feature_extractor.add(Flatten())"
   ]
  },
  {
   "cell_type": "code",
   "execution_count": 30,
   "metadata": {
    "id": "xoe-x13Wv9U7"
   },
   "outputs": [],
   "source": [
    "#Add layers for deep learning prediction\n",
    "x = feature_extractor.output  \n",
    "x = Dense(1024, activation = 'relu')(x)\n",
    "prediction_layer = Dense(1, activation = 'softmax')(x)"
   ]
  },
  {
   "cell_type": "code",
   "execution_count": 31,
   "metadata": {
    "colab": {
     "base_uri": "https://localhost:8080/"
    },
    "id": "bHJvnlRyv9U7",
    "outputId": "d1dfa1ae-a136-456e-f6ac-4322e9f93866"
   },
   "outputs": [
    {
     "name": "stdout",
     "output_type": "stream",
     "text": [
      "Model: \"model\"\n",
      "_________________________________________________________________\n",
      " Layer (type)                Output Shape              Param #   \n",
      "=================================================================\n",
      " conv1d_input (InputLayer)   [(None, 187, 1)]          0         \n",
      "                                                                 \n",
      " conv1d (Conv1D)             (None, 187, 8)            32        \n",
      "                                                                 \n",
      " max_pooling1d (MaxPooling1D  (None, 94, 8)            0         \n",
      " )                                                               \n",
      "                                                                 \n",
      " conv1d_1 (Conv1D)           (None, 94, 16)            400       \n",
      "                                                                 \n",
      " max_pooling1d_1 (MaxPooling  (None, 47, 16)           0         \n",
      " 1D)                                                             \n",
      "                                                                 \n",
      " conv1d_2 (Conv1D)           (None, 47, 32)            1568      \n",
      "                                                                 \n",
      " max_pooling1d_2 (MaxPooling  (None, 24, 32)           0         \n",
      " 1D)                                                             \n",
      "                                                                 \n",
      " conv1d_3 (Conv1D)           (None, 24, 64)            6208      \n",
      "                                                                 \n",
      " max_pooling1d_3 (MaxPooling  (None, 12, 64)           0         \n",
      " 1D)                                                             \n",
      "                                                                 \n",
      " conv1d_4 (Conv1D)           (None, 12, 128)           24704     \n",
      "                                                                 \n",
      " max_pooling1d_4 (MaxPooling  (None, 6, 128)           0         \n",
      " 1D)                                                             \n",
      "                                                                 \n",
      " conv1d_5 (Conv1D)           (None, 6, 256)            98560     \n",
      "                                                                 \n",
      " max_pooling1d_5 (MaxPooling  (None, 3, 256)           0         \n",
      " 1D)                                                             \n",
      "                                                                 \n",
      " conv1d_6 (Conv1D)           (None, 3, 512)            393728    \n",
      "                                                                 \n",
      " max_pooling1d_6 (MaxPooling  (None, 2, 512)           0         \n",
      " 1D)                                                             \n",
      "                                                                 \n",
      " flatten (Flatten)           (None, 1024)              0         \n",
      "                                                                 \n",
      " dense (Dense)               (None, 1024)              1049600   \n",
      "                                                                 \n",
      " dense_1 (Dense)             (None, 1)                 1025      \n",
      "                                                                 \n",
      "=================================================================\n",
      "Total params: 1,575,825\n",
      "Trainable params: 1,575,825\n",
      "Non-trainable params: 0\n",
      "_________________________________________________________________\n",
      "None\n"
     ]
    }
   ],
   "source": [
    "# Make a new model combining both feature extractor and x\n",
    "from keras.models import Model\n",
    "cnn_model = Model(inputs=feature_extractor.input, outputs=prediction_layer)\n",
    "cnn_model.compile(optimizer='adam',loss = 'binary_crossentropy', metrics = ['accuracy'])\n",
    "print(cnn_model.summary()) "
   ]
  },
  {
   "cell_type": "code",
   "execution_count": 32,
   "metadata": {
    "colab": {
     "base_uri": "https://localhost:8080/"
    },
    "id": "K_4yL7AAv9U7",
    "outputId": "9ce037c3-916f-4813-9342-9f9b6defbfe3"
   },
   "outputs": [
    {
     "name": "stdout",
     "output_type": "stream",
     "text": [
      "Epoch 1/10\n",
      "319/319 [==============================] - 7s 21ms/step - loss: 0.3717 - accuracy: 0.7215 - val_loss: 0.2905 - val_accuracy: 0.7233\n",
      "Epoch 2/10\n",
      "319/319 [==============================] - 6s 20ms/step - loss: 0.1943 - accuracy: 0.7215 - val_loss: 0.1129 - val_accuracy: 0.7233\n",
      "Epoch 3/10\n",
      "319/319 [==============================] - 6s 20ms/step - loss: 0.1286 - accuracy: 0.7215 - val_loss: 0.1008 - val_accuracy: 0.7233\n",
      "Epoch 4/10\n",
      "319/319 [==============================] - 7s 21ms/step - loss: 0.1004 - accuracy: 0.7215 - val_loss: 0.0899 - val_accuracy: 0.7233\n",
      "Epoch 5/10\n",
      "319/319 [==============================] - 6s 20ms/step - loss: 0.0825 - accuracy: 0.7215 - val_loss: 0.0738 - val_accuracy: 0.7233\n",
      "Epoch 6/10\n",
      "319/319 [==============================] - 6s 19ms/step - loss: 0.0712 - accuracy: 0.7215 - val_loss: 0.0569 - val_accuracy: 0.7233\n",
      "Epoch 7/10\n",
      "319/319 [==============================] - 6s 19ms/step - loss: 0.0684 - accuracy: 0.7215 - val_loss: 0.0631 - val_accuracy: 0.7233\n",
      "Epoch 8/10\n",
      "319/319 [==============================] - 6s 18ms/step - loss: 0.0585 - accuracy: 0.7215 - val_loss: 0.0940 - val_accuracy: 0.7233\n",
      "Epoch 9/10\n",
      "319/319 [==============================] - 6s 18ms/step - loss: 0.0498 - accuracy: 0.7215 - val_loss: 0.0763 - val_accuracy: 0.7233\n",
      "Epoch 10/10\n",
      "319/319 [==============================] - 6s 18ms/step - loss: 0.0379 - accuracy: 0.7215 - val_loss: 0.1158 - val_accuracy: 0.7233\n"
     ]
    }
   ],
   "source": [
    "#Train the CNN model\n",
    "history = cnn_model.fit(X_train, y_train, epochs=10, validation_data = (X_test, y_test),verbose=1)"
   ]
  },
  {
   "cell_type": "code",
   "execution_count": 33,
   "metadata": {
    "colab": {
     "base_uri": "https://localhost:8080/"
    },
    "id": "8K4FwcQtAOcF",
    "outputId": "a49c575d-70d0-4259-a047-a8d93edec1e2"
   },
   "outputs": [
    {
     "data": {
      "text/plain": [
       "[0.7214531302452087,\n",
       " 0.7214531302452087,\n",
       " 0.7214531302452087,\n",
       " 0.7214531302452087,\n",
       " 0.7214531302452087,\n",
       " 0.7214531302452087,\n",
       " 0.7214531302452087,\n",
       " 0.7214531302452087,\n",
       " 0.7214531302452087,\n",
       " 0.7214531302452087]"
      ]
     },
     "execution_count": 33,
     "metadata": {},
     "output_type": "execute_result"
    }
   ],
   "source": [
    "history.history['accuracy']"
   ]
  },
  {
   "cell_type": "code",
   "execution_count": 34,
   "metadata": {
    "colab": {
     "base_uri": "https://localhost:8080/",
     "height": 295
    },
    "id": "yFXx2jOLv9U7",
    "outputId": "11066701-59ff-4753-bf2e-ac5222856837"
   },
   "outputs": [
    {
     "data": {
      "image/png": "[encoded data removed]",
      "text/plain": [
       "<Figure size 432x288 with 1 Axes>"
      ]
     },
     "metadata": {
      "needs_background": "light"
     },
     "output_type": "display_data"
    }
   ],
   "source": [
    "#plot the training and validation accuracy and loss at each epoch\n",
    "loss = history.history['loss']\n",
    "val_loss = history.history['val_loss']\n",
    "epochs = range(1, len(loss) + 1)\n",
    "plt.plot(epochs, loss, 'y', label='Training loss')\n",
    "plt.plot(epochs, val_loss, 'r', label='Validation loss')\n",
    "plt.title('Training and validation loss')\n",
    "plt.xlabel('Epochs')\n",
    "plt.ylabel('Loss')\n",
    "plt.legend()\n",
    "plt.show()"
   ]
  },
  {
   "cell_type": "code",
   "execution_count": 35,
   "metadata": {
    "colab": {
     "base_uri": "https://localhost:8080/",
     "height": 295
    },
    "id": "lx_JFWj8v9U7",
    "outputId": "4155ec38-a65d-4083-8f83-736bac38626d"
   },
   "outputs": [
    {
     "data": {
      "image/png": "[encoded data removed]",
      "text/plain": [
       "<Figure size 432x288 with 1 Axes>"
      ]
     },
     "metadata": {
      "needs_background": "light"
     },
     "output_type": "display_data"
    }
   ],
   "source": [
    "acc = history.history['accuracy']\n",
    "val_acc = history.history['val_accuracy']\n",
    "plt.plot(epochs, acc, 'y', label='Training acc')\n",
    "plt.plot(epochs, val_acc, 'r', label='Validation acc')\n",
    "plt.title('Training and validation accuracy')\n",
    "plt.xlabel('Epochs')\n",
    "plt.ylabel('Accuracy')\n",
    "plt.legend()\n",
    "plt.show()"
   ]
  },
  {
   "cell_type": "code",
   "execution_count": 36,
   "metadata": {
    "id": "IHlbr01yv9U8"
   },
   "outputs": [],
   "source": [
    "prediction_NN = cnn_model.predict(X_test)\n",
    "prediction_NN = np.argmax(prediction_NN, axis=-1)"
   ]
  },
  {
   "cell_type": "code",
   "execution_count": 37,
   "metadata": {
    "colab": {
     "base_uri": "https://localhost:8080/"
    },
    "id": "jyfFgsjov9U8",
    "outputId": "6535c2eb-0a3b-4b7f-eca8-eb4f8b65de7a"
   },
   "outputs": [
    {
     "name": "stdout",
     "output_type": "stream",
     "text": [
      "              precision    recall  f1-score   support\n",
      "\n",
      "         0.0       0.28      1.00      0.43      1208\n",
      "         1.0       0.00      0.00      0.00      3157\n",
      "\n",
      "    accuracy                           0.28      4365\n",
      "   macro avg       0.14      0.50      0.22      4365\n",
      "weighted avg       0.08      0.28      0.12      4365\n",
      "\n"
     ]
    },
    {
     "name": "stderr",
     "output_type": "stream",
     "text": [
      "C:\\ProgramData\\Anaconda3\\lib\\site-packages\\sklearn\\metrics\\_classification.py:1248: UndefinedMetricWarning: Precision and F-score are ill-defined and being set to 0.0 in labels with no predicted samples. Use `zero_division` parameter to control this behavior.\n",
      "  _warn_prf(average, modifier, msg_start, len(result))\n",
      "C:\\ProgramData\\Anaconda3\\lib\\site-packages\\sklearn\\metrics\\_classification.py:1248: UndefinedMetricWarning: Precision and F-score are ill-defined and being set to 0.0 in labels with no predicted samples. Use `zero_division` parameter to control this behavior.\n",
      "  _warn_prf(average, modifier, msg_start, len(result))\n",
      "C:\\ProgramData\\Anaconda3\\lib\\site-packages\\sklearn\\metrics\\_classification.py:1248: UndefinedMetricWarning: Precision and F-score are ill-defined and being set to 0.0 in labels with no predicted samples. Use `zero_division` parameter to control this behavior.\n",
      "  _warn_prf(average, modifier, msg_start, len(result))\n"
     ]
    }
   ],
   "source": [
    "import sklearn.metrics as metrics\n",
    "print(metrics.classification_report(y_test, prediction_NN))"
   ]
  },
  {
   "cell_type": "code",
   "execution_count": 38,
   "metadata": {
    "colab": {
     "base_uri": "https://localhost:8080/"
    },
    "id": "TXpJrFGLv9U8",
    "outputId": "3fb7fb1c-0ce2-417c-9990-76466a73ab6b"
   },
   "outputs": [
    {
     "name": "stdout",
     "output_type": "stream",
     "text": [
      "Accuracy =  0.9830469644902634\n",
      "2.4492223262786865\n"
     ]
    }
   ],
   "source": [
    "#Now, let us use features from convolutional network for RF\n",
    "X_for_RF = feature_extractor.predict(X_train) #This is out X input to RF\n",
    "\n",
    "#RANDOM FOREST\n",
    "from sklearn.ensemble import RandomForestClassifier\n",
    "RF_model = RandomForestClassifier(n_estimators = 50, random_state = 42)\n",
    "\n",
    "import time \n",
    "t1=time.time()\n",
    "# Train the model on training data\n",
    "RF_model.fit(X_for_RF, y_train) #For sklearn no one hot encoding\n",
    "t2=time.time()\n",
    "\n",
    "#Send test data through same feature extractor process\n",
    "X_test_feature = feature_extractor.predict(X_test)\n",
    "\n",
    "#Now predict using the trained RF model. \n",
    "prediction_RF = RF_model.predict(X_test_feature)\n",
    "\n",
    "#Print overall accuracy\n",
    "from sklearn import metrics\n",
    "print (\"Accuracy = \", metrics.accuracy_score(y_test, prediction_RF))\n",
    "print(t2-t1)"
   ]
  },
  {
   "cell_type": "code",
   "execution_count": 39,
   "metadata": {
    "colab": {
     "base_uri": "https://localhost:8080/"
    },
    "id": "ov_Zo-WF0G4T",
    "outputId": "918b37f7-ecf9-4e2b-a214-3292b16c1973"
   },
   "outputs": [
    {
     "name": "stdout",
     "output_type": "stream",
     "text": [
      "              precision    recall  f1-score   support\n",
      "\n",
      "         0.0       0.97      0.97      0.97      1208\n",
      "         1.0       0.99      0.99      0.99      3157\n",
      "\n",
      "    accuracy                           0.98      4365\n",
      "   macro avg       0.98      0.98      0.98      4365\n",
      "weighted avg       0.98      0.98      0.98      4365\n",
      "\n"
     ]
    }
   ],
   "source": [
    "print(metrics.classification_report(y_test, prediction_RF))"
   ]
  },
  {
   "cell_type": "code",
   "execution_count": 40,
   "metadata": {
    "colab": {
     "base_uri": "https://localhost:8080/"
    },
    "id": "oPlRNd9Rv9U9",
    "outputId": "7ddff1f3-19ba-40fa-abcc-9d6895537857"
   },
   "outputs": [
    {
     "name": "stderr",
     "output_type": "stream",
     "text": [
      "C:\\ProgramData\\Anaconda3\\lib\\site-packages\\xgboost\\sklearn.py:1224: UserWarning: The use of label encoder in XGBClassifier is deprecated and will be removed in a future release. To remove this warning, do the following: 1) Pass option use_label_encoder=False when constructing XGBClassifier object; and 2) Encode your labels (y) as integers starting with 0, i.e. 0, 1, 2, ..., [num_class - 1].\n",
      "  warnings.warn(label_encoder_deprecation_msg, UserWarning)\n"
     ]
    },
    {
     "name": "stdout",
     "output_type": "stream",
     "text": [
      "[23:10:13] WARNING: C:/Users/Administrator/workspace/xgboost-win64_release_1.5.1/src/learner.cc:1115: Starting in XGBoost 1.3.0, the default evaluation metric used with the objective 'binary:logistic' was changed from 'error' to 'logloss'. Explicitly set eval_metric if you'd like to restore the old behavior.\n",
      "Accuracy =  0.9855670103092784\n",
      "3.8425092697143555\n"
     ]
    }
   ],
   "source": [
    "#Now, let us use features from convolutional network for xgb\n",
    "X_for_xgb = feature_extractor.predict(X_train) #This is out X input to xgb\n",
    "\n",
    "#xgb\n",
    "from xgboost import XGBClassifier\n",
    "xgb_model = XGBClassifier()\n",
    "\n",
    "t3=time.time()\n",
    "# Train the model on training data\n",
    "xgb_model.fit(X_for_xgb, y_train) #For sklearn no one hot encoding\n",
    "t4=time.time()\n",
    "\n",
    "#Send test data through same feature extractor process\n",
    "X_test_feature_xgb = feature_extractor.predict(X_test)\n",
    "\n",
    "#Now predict using the trained RF model. \n",
    "prediction_xgb = xgb_model.predict(X_test_feature_xgb)\n",
    "\n",
    "#Print overall accuracy\n",
    "\n",
    "print (\"Accuracy = \", metrics.accuracy_score(y_test, prediction_xgb))\n",
    "print(t4-t3)"
   ]
  },
  {
   "cell_type": "code",
   "execution_count": 41,
   "metadata": {
    "colab": {
     "base_uri": "https://localhost:8080/"
    },
    "id": "6tOwhjiO0MpK",
    "outputId": "b69010e0-8be3-441e-e49d-2a3e77369d0b"
   },
   "outputs": [
    {
     "name": "stdout",
     "output_type": "stream",
     "text": [
      "              precision    recall  f1-score   support\n",
      "\n",
      "         0.0       0.97      0.98      0.97      1208\n",
      "         1.0       0.99      0.99      0.99      3157\n",
      "\n",
      "    accuracy                           0.99      4365\n",
      "   macro avg       0.98      0.98      0.98      4365\n",
      "weighted avg       0.99      0.99      0.99      4365\n",
      "\n"
     ]
    }
   ],
   "source": [
    "print(metrics.classification_report(y_test, prediction_xgb))"
   ]
  },
  {
   "cell_type": "code",
   "execution_count": 42,
   "metadata": {
    "colab": {
     "base_uri": "https://localhost:8080/"
    },
    "id": "zaaOCi4jv9U-",
    "outputId": "a888a2f1-22e0-4a38-c453-56ab0c5339b5"
   },
   "outputs": [
    {
     "name": "stdout",
     "output_type": "stream",
     "text": [
      "Accuracy =  0.9855670103092784\n",
      "14.951289176940918\n"
     ]
    }
   ],
   "source": [
    "#Now, let us use features from convolutional network for hgb\n",
    "X_for_hgb = feature_extractor.predict(X_train) #This is out X input to xgb\n",
    "\n",
    "# HistGradientBoostingClassifier\n",
    "from sklearn.experimental import enable_hist_gradient_boosting \n",
    "from sklearn.ensemble import HistGradientBoostingClassifier\n",
    "hgb_model = HistGradientBoostingClassifier(max_bins=255, max_iter=100)\n",
    "\n",
    "t5=time.time()\n",
    "# Train the model on training data\n",
    "hgb_model.fit(X_for_hgb, y_train) #For sklearn no one hot encoding\n",
    "t6=time.time()\n",
    "\n",
    "#Send test data through same feature extractor process\n",
    "X_test_feature_hgb = feature_extractor.predict(X_test)\n",
    "\n",
    "#Now predict using the trained hgb model. \n",
    "prediction_hgb = hgb_model.predict(X_test_feature_hgb)\n",
    "\n",
    "#Print overall accuracy\n",
    "from sklearn import metrics\n",
    "print (\"Accuracy = \", metrics.accuracy_score(y_test, prediction_hgb))\n",
    "print(t6-t5)"
   ]
  },
  {
   "cell_type": "code",
   "execution_count": 43,
   "metadata": {
    "colab": {
     "base_uri": "https://localhost:8080/"
    },
    "id": "fxTUb5nk0PTy",
    "outputId": "ac4d6008-9354-43ee-cbc7-c545b3b34a80"
   },
   "outputs": [
    {
     "name": "stdout",
     "output_type": "stream",
     "text": [
      "              precision    recall  f1-score   support\n",
      "\n",
      "         0.0       0.97      0.98      0.97      1208\n",
      "         1.0       0.99      0.99      0.99      3157\n",
      "\n",
      "    accuracy                           0.99      4365\n",
      "   macro avg       0.98      0.98      0.98      4365\n",
      "weighted avg       0.99      0.99      0.99      4365\n",
      "\n"
     ]
    }
   ],
   "source": [
    "print(metrics.classification_report(y_test, prediction_hgb))"
   ]
  },
  {
   "cell_type": "code",
   "execution_count": 44,
   "metadata": {
    "colab": {
     "base_uri": "https://localhost:8080/"
    },
    "id": "ch4xbNErv9U_",
    "outputId": "a17ee60e-b297-4d88-c232-c91c267129a4"
   },
   "outputs": [
    {
     "name": "stdout",
     "output_type": "stream",
     "text": [
      "Accuracy =  0.9844215349369989\n",
      "0.0070040225982666016\n"
     ]
    }
   ],
   "source": [
    "#Now, let us use features from convolutional network for KNN\n",
    "X_for_knn = feature_extractor.predict(X_train) #This is out X input to knn\n",
    "\n",
    "#KNearest Neighbour\n",
    "from sklearn.neighbors import KNeighborsClassifier\n",
    "knn = KNeighborsClassifier()\n",
    "knn.fit(X_train,y_train)\n",
    "\n",
    "t7 = time.time()\n",
    "# Train the model on training data\n",
    "knn.fit(X_for_knn, y_train) #For sklearn no one hot encoding\n",
    "t8 = time.time()\n",
    "\n",
    "#Send test data through same feature extractor process\n",
    "X_test_feature_knn = feature_extractor.predict(X_test)\n",
    "\n",
    "#Now predict using the trained hgb model. \n",
    "prediction_knn = knn.predict(X_test_feature_knn)\n",
    "\n",
    "#Print overall accuracy\n",
    "from sklearn import metrics\n",
    "print (\"Accuracy = \", metrics.accuracy_score(y_test, prediction_knn))\n",
    "print(t8-t7)"
   ]
  },
  {
   "cell_type": "code",
   "execution_count": 45,
   "metadata": {
    "colab": {
     "base_uri": "https://localhost:8080/"
    },
    "id": "NI3y3e9Q0RkZ",
    "outputId": "2960a89f-658f-4b10-b858-889897f47b2b"
   },
   "outputs": [
    {
     "name": "stdout",
     "output_type": "stream",
     "text": [
      "              precision    recall  f1-score   support\n",
      "\n",
      "         0.0       0.97      0.97      0.97      1208\n",
      "         1.0       0.99      0.99      0.99      3157\n",
      "\n",
      "    accuracy                           0.98      4365\n",
      "   macro avg       0.98      0.98      0.98      4365\n",
      "weighted avg       0.98      0.98      0.98      4365\n",
      "\n"
     ]
    }
   ],
   "source": [
    "print(metrics.classification_report(y_test, prediction_knn))"
   ]
  },
  {
   "cell_type": "code",
   "execution_count": 46,
   "metadata": {
    "colab": {
     "base_uri": "https://localhost:8080/"
    },
    "id": "VdUv3gGIv9U_",
    "outputId": "df285d87-1704-46c3-9b21-e7ca6e00246d"
   },
   "outputs": [
    {
     "name": "stdout",
     "output_type": "stream",
     "text": [
      "Accuracy =  0.986483390607102\n",
      "5.4129016399383545\n"
     ]
    }
   ],
   "source": [
    "#Now, let us use features from convolutional network for SVM Linear\n",
    "X_for_svml = feature_extractor.predict(X_train) #This is out X input to knn\n",
    "\n",
    "#SVM_linear\n",
    "from sklearn.svm import SVC\n",
    "svml = SVC(kernel = 'linear', C=8.5, random_state =42)\n",
    "svml.fit(X_train,y_train)\n",
    "\n",
    "t9 = time.time()\n",
    "# Train the model on training data\n",
    "svml.fit(X_for_svml, y_train) #For sklearn no one hot encoding\n",
    "t10 = time.time()\n",
    "\n",
    "#Send test data through same feature extractor process\n",
    "X_test_feature_svml = feature_extractor.predict(X_test)\n",
    "\n",
    "#Now predict using the trained hgb model. \n",
    "prediction_svml = svml.predict(X_test_feature_svml)\n",
    "\n",
    "#Print overall accuracy\n",
    "print (\"Accuracy = \", metrics.accuracy_score(y_test, prediction_svml))\n",
    "print(t10-t9)"
   ]
  },
  {
   "cell_type": "code",
   "execution_count": 47,
   "metadata": {
    "colab": {
     "base_uri": "https://localhost:8080/"
    },
    "id": "4qNXWl2x0Tny",
    "outputId": "3143c196-3fce-4d63-c077-0d042a0bc4f9"
   },
   "outputs": [
    {
     "name": "stdout",
     "output_type": "stream",
     "text": [
      "              precision    recall  f1-score   support\n",
      "\n",
      "         0.0       0.98      0.97      0.98      1208\n",
      "         1.0       0.99      0.99      0.99      3157\n",
      "\n",
      "    accuracy                           0.99      4365\n",
      "   macro avg       0.98      0.98      0.98      4365\n",
      "weighted avg       0.99      0.99      0.99      4365\n",
      "\n"
     ]
    }
   ],
   "source": [
    "print(metrics.classification_report(y_test, prediction_svml))"
   ]
  },
  {
   "cell_type": "code",
   "execution_count": 48,
   "metadata": {
    "colab": {
     "base_uri": "https://localhost:8080/"
    },
    "id": "Sxj4IVYBv9U_",
    "outputId": "67e0515c-75d9-4e68-aa30-624eb9af4073"
   },
   "outputs": [
    {
     "name": "stdout",
     "output_type": "stream",
     "text": [
      "Accuracy =  0.9825887743413516\n",
      "6.11452841758728\n"
     ]
    }
   ],
   "source": [
    "#Now, let us use features from convolutional network for SVM RBF\n",
    "X_for_svmr = feature_extractor.predict(X_train) #This is out X input to knn\n",
    "\n",
    "#SVM_rbf\n",
    "from sklearn.svm import SVC\n",
    "svmr = SVC(kernel = 'rbf', C= 4.5, gamma = 0.1, random_state = 42)\n",
    "svmr.fit(X_train,y_train)\n",
    "\n",
    "import time\n",
    "t11 = time.time()\n",
    "# Train the model on training data\n",
    "svmr.fit(X_for_svmr, y_train) #For sklearn no one hot encoding\n",
    "t12 = time.time()\n",
    "\n",
    "#Send test data through same feature extractor process\n",
    "X_test_feature_svmr = feature_extractor.predict(X_test)\n",
    "\n",
    "#Now predict using the trained hgb model. \n",
    "prediction_svmr = svmr.predict(X_test_feature_svmr)\n",
    "\n",
    "#Print overall accuracy\n",
    "print (\"Accuracy = \", metrics.accuracy_score(y_test, prediction_svmr))\n",
    "print(t12-t11)"
   ]
  },
  {
   "cell_type": "code",
   "execution_count": 49,
   "metadata": {
    "colab": {
     "base_uri": "https://localhost:8080/"
    },
    "id": "zmeJqx-Z0W_a",
    "outputId": "135e334e-928b-4882-b466-aca3ed55b581"
   },
   "outputs": [
    {
     "name": "stdout",
     "output_type": "stream",
     "text": [
      "              precision    recall  f1-score   support\n",
      "\n",
      "         0.0       0.97      0.97      0.97      1208\n",
      "         1.0       0.99      0.99      0.99      3157\n",
      "\n",
      "    accuracy                           0.98      4365\n",
      "   macro avg       0.98      0.98      0.98      4365\n",
      "weighted avg       0.98      0.98      0.98      4365\n",
      "\n"
     ]
    }
   ],
   "source": [
    "print(metrics.classification_report(y_test, prediction_svmr))"
   ]
  },
  {
   "cell_type": "code",
   "execution_count": 50,
   "metadata": {
    "colab": {
     "base_uri": "https://localhost:8080/"
    },
    "id": "7o9WIgcHv9VA",
    "outputId": "bf2ba9ef-e644-48db-f8b9-771246e42432"
   },
   "outputs": [
    {
     "name": "stdout",
     "output_type": "stream",
     "text": [
      "Accuracy =  0.9814432989690721\n",
      "7.483180046081543\n"
     ]
    }
   ],
   "source": [
    "#Now, let us use features from convolutional network for svm polynomial\n",
    "X_for_svmp = feature_extractor.predict(X_train) #This is out X input to knn\n",
    "\n",
    "#SVM_rbf\n",
    "from sklearn.svm import SVC\n",
    "svmp = SVC(kernel = 'poly', C=4.5, degree = 3, random_state = 42)\n",
    "svmp.fit(X_train,y_train)\n",
    "\n",
    "import time\n",
    "t13 = time.time()\n",
    "# Train the model on training data\n",
    "svmp.fit(X_for_svmp, y_train) #For sklearn no one hot encoding\n",
    "t14 = time.time()\n",
    "\n",
    "#Send test data through same feature extractor process\n",
    "X_test_feature_svmp = feature_extractor.predict(X_test)\n",
    "\n",
    "#Now predict using the trained hgb model. \n",
    "prediction_svmp = svmp.predict(X_test_feature_svmp)\n",
    "\n",
    "#Print overall accuracy\n",
    "print (\"Accuracy = \", metrics.accuracy_score(y_test, prediction_svmp))\n",
    "print(t14-t13)"
   ]
  },
  {
   "cell_type": "code",
   "execution_count": 51,
   "metadata": {
    "colab": {
     "base_uri": "https://localhost:8080/"
    },
    "id": "qBZDZbgk0Zpa",
    "outputId": "ac481b36-6561-486a-8149-47307c27f389"
   },
   "outputs": [
    {
     "name": "stdout",
     "output_type": "stream",
     "text": [
      "              precision    recall  f1-score   support\n",
      "\n",
      "         0.0       0.97      0.96      0.97      1208\n",
      "         1.0       0.98      0.99      0.99      3157\n",
      "\n",
      "    accuracy                           0.98      4365\n",
      "   macro avg       0.98      0.97      0.98      4365\n",
      "weighted avg       0.98      0.98      0.98      4365\n",
      "\n"
     ]
    }
   ],
   "source": [
    "print(metrics.classification_report(y_test, prediction_svmp))"
   ]
  }
 ],
 "metadata": {
  "colab": {
   "name": "ptdb_dataset_cnn_ml_30_12_2021.ipynb",
   "provenance": []
  },
  "kernelspec": {
   "display_name": "Python 3 (ipykernel)",
   "language": "python",
   "name": "python3"
  },
  "language_info": {
   "codemirror_mode": {
    "name": "ipython",
    "version": 3
   },
   "file_extension": ".py",
   "mimetype": "text/x-python",
   "name": "python",
   "nbconvert_exporter": "python",
   "pygments_lexer": "ipython3",
   "version": "3.11.4"
  }
 },
 "nbformat": 4,
 "nbformat_minor": 1
}
